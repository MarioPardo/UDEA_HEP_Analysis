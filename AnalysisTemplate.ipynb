{
 "cells": [
  {
   "cell_type": "markdown",
   "metadata": {},
   "source": [
    "<h1> Load the data </h1>\n"
   ]
  },
  {
   "cell_type": "code",
   "execution_count": 121,
   "metadata": {},
   "outputs": [],
   "source": [
    "import matplotlib.pyplot as plt\n",
    "from coffea.nanoevents import NanoEventsFactory, DelphesSchema\n",
    "import numpy as np\n",
    "import uproot\n",
    "from hist import Hist, axis\n",
    "import os\n",
    "\n",
    "\n",
    "tree_name= \"Delphes\"  #all of them are named delphes\n",
    "\n",
    "#Signal\n",
    "signal_folder = \"data/signal/\"\n",
    "signal_filename =  \"VBF_DM_My0_1000_MXD_10.root\"\n",
    "signal_file = uproot.open(signal_folder +signal_filename)\n",
    "\n",
    "#Background\n",
    "background_folder = \"data/bkg/\"\n",
    "\n",
    "\n",
    "#will store data to be used in final \"cut chart\"\n",
    "num_cuts = 5\n",
    "SM_events = [1000,700,200]\n",
    "NP_events = [500,400,300]\n",
    "Significance = [1,2.4,5]\n",
    "    #all this is temp for now\n",
    "\n",
    "\n"
   ]
  },
  {
   "cell_type": "markdown",
   "metadata": {},
   "source": [
    "<h1> Bins </h1>"
   ]
  },
  {
   "cell_type": "code",
   "execution_count": 122,
   "metadata": {},
   "outputs": [
    {
     "data": {
      "text/plain": [
       "<Figure size 1000x600 with 0 Axes>"
      ]
     },
     "execution_count": 122,
     "metadata": {},
     "output_type": "execute_result"
    },
    {
     "data": {
      "text/plain": [
       "<Figure size 1000x600 with 0 Axes>"
      ]
     },
     "metadata": {},
     "output_type": "display_data"
    }
   ],
   "source": [
    "binning = {\n",
    "    \"PT\": {\"range\": (20, 300), \"bins\": 14},  # (300 - 20) / 20 = 14 bins\n",
    "    \"Eta*Eta\": {\"range\": (-25, 25), \"bins\": 500},  # (25 - (-25)) / 0.1 = 500 bins\n",
    "    \"Delta_Eta\": {\"range\": (0, 10), \"bins\": 100},  # (10 - 0) / 0.1 = 100 bins\n",
    "    \"Transverse\": {\"range\": (500, 2000), \"bins\": 75},  # (2000 - 500) / 20 = 75 bins\n",
    "    \"Eta\": {\"range\": (-5, 5), \"bins\": 100},  # (5 - (-5)) / 0.1 = 100 bins\n",
    "    \"Phi\": {\"range\": (0, 2 * np.pi), \"bins\": 63}  # (2 * pi - 0) / 0.1 = 63 bins\n",
    "}\n",
    "\n",
    "plt.figure(figsize=(10, 6))\n",
    "\n"
   ]
  },
  {
   "cell_type": "code",
   "execution_count": 52,
   "metadata": {},
   "outputs": [],
   "source": [
    "\n"
   ]
  },
  {
   "cell_type": "markdown",
   "metadata": {},
   "source": [
    "<h1> Plot Everything</h1>"
   ]
  },
  {
   "cell_type": "markdown",
   "metadata": {},
   "source": [
    "<h3> MET met <h3>"
   ]
  },
  {
   "cell_type": "code",
   "execution_count": null,
   "metadata": {},
   "outputs": [],
   "source": []
  },
  {
   "cell_type": "markdown",
   "metadata": {},
   "source": [
    "<h3> MET Phi </h3>"
   ]
  },
  {
   "cell_type": "code",
   "execution_count": 123,
   "metadata": {},
   "outputs": [
    {
     "data": {
      "image/png": "[encoded data removed]",
      "text/plain": [
       "<Figure size 640x480 with 1 Axes>"
      ]
     },
     "metadata": {},
     "output_type": "display_data"
    }
   ],
   "source": [
    "# Create histograms\n",
    "met_phi_hist_background = Hist(\n",
    "    axis.Regular(binning[\"Phi\"][\"bins\"], *binning[\"Phi\"][\"range\"], name=\"MET_Phi\", label=\"MET Phi (rad)\")\n",
    ")\n",
    "met_phi_hist_signal = Hist(\n",
    "    axis.Regular(binning[\"Phi\"][\"bins\"], *binning[\"Phi\"][\"range\"], name=\"MET_Phi\", label=\"MET Phi (rad)\")\n",
    ")\n",
    "\n",
    "#Signal\n",
    "#Signal Data\n",
    "signal_tree = signal_file[tree_name]\n",
    "signal_weights = signal_tree[\"Event/Event.Weight\"].array(library=\"np\")\n",
    "normalized_signal_weights = signal_weights / np.mean(signal_weights)\n",
    "\n",
    "signal_met_phi = signal_tree[\"MissingET.Phi\"].array(library=\"np\")\n",
    "met_phi_hist_signal.fill(MET_Phi=signal_met_phi,weight = normalized_signal_weights)\n",
    "\n",
    "\n",
    "#Background\n",
    "for root_file in os.listdir(background_folder):\n",
    "    if root_file.endswith(\".root\"):\n",
    "        file_path = os.path.join(background_folder, root_file)\n",
    "        background_file = uproot.open(file_path)\n",
    "        background_tree = background_file[tree_name]\n",
    "\n",
    "        background_weights = background_tree[\"Event/Event.Weight\"].array(library=\"np\")\n",
    "        normalized_background_weights = background_weights / np.mean(background_weights)\n",
    "\n",
    "        background_met_phi = background_tree[\"MissingET.Phi\"].array(library=\"np\")\n",
    "        met_phi_hist_background.fill(MET_Phi=background_met_phi,weight = normalized_background_weights)\n",
    "        \n",
    "\n",
    "\n",
    "\n",
    "#Set up histogram\n",
    "\n",
    "# Background histogram\n",
    "plt.stairs(\n",
    "    met_phi_hist_background.values(),\n",
    "    met_phi_hist_background.axes[0].edges,\n",
    "    color='blue',\n",
    "    label='Background',\n",
    "    linewidth=2\n",
    ")\n",
    "\n",
    "# Signal histogram\n",
    "plt.stairs(\n",
    "    met_phi_hist_signal.values(),\n",
    "    met_phi_hist_signal.axes[0].edges,\n",
    "    color='red',\n",
    "    label='Signal',\n",
    "    linewidth=2\n",
    ")\n",
    "\n",
    "# Add labels and legend\n",
    "plt.xlabel('MET Phi (rad)')\n",
    "plt.ylabel('Counts')\n",
    "plt.title('MET Phi Distribution')\n",
    "plt.legend()\n",
    "plt.grid(True)\n",
    "\n",
    "# Show the plot\n",
    "plt.show()"
   ]
  },
  {
   "cell_type": "markdown",
   "metadata": {},
   "source": []
  },
  {
   "cell_type": "markdown",
   "metadata": {},
   "source": [
    "<h2> Jets </h2>"
   ]
  },
  {
   "cell_type": "markdown",
   "metadata": {},
   "source": [
    "<h3> PT(j0) , PT(j1) </h3>"
   ]
  },
  {
   "cell_type": "code",
   "execution_count": 126,
   "metadata": {},
   "outputs": [
    {
     "data": {
      "image/png": "[encoded data removed]",
      "text/plain": [
       "<Figure size 1200x600 with 2 Axes>"
      ]
     },
     "metadata": {},
     "output_type": "display_data"
    }
   ],
   "source": [
    "# Create histograms\n",
    "\n",
    "#J0\n",
    "pt_j0_hist_background = Hist(\n",
    "    axis.Regular(binning[\"PT\"][\"bins\"], *binning[\"PT\"][\"range\"], name=\"PT_J0\", label=\"PT_J0\")\n",
    ")\n",
    "pt_j0_hist_signal = Hist(\n",
    "    axis.Regular(binning[\"PT\"][\"bins\"], *binning[\"PT\"][\"range\"], name=\"PT_J0\", label=\"PT_J0\")\n",
    ")\n",
    "\n",
    "#J1\n",
    "pt_j1_hist_background = Hist(\n",
    "    axis.Regular(binning[\"PT\"][\"bins\"], *binning[\"PT\"][\"range\"], name=\"PT_J1\", label=\"PT_J1\")\n",
    ")\n",
    "pt_j1_hist_signal = Hist(\n",
    "    axis.Regular(binning[\"PT\"][\"bins\"], *binning[\"PT\"][\"range\"], name=\"PT_J1\", label=\"PT_J1\")\n",
    ")\n",
    "\n",
    "\n",
    "# Signal processing\n",
    "signal_jets_pt = signal_tree[\"Jet.PT\"].array(library=\"np\")\n",
    "signal_filtered_jets_pt = [entry for entry in signal_jets_pt if len(entry) >= 2]  # At least two entries\n",
    "signal_pt_j0 = np.array([entry[0] for entry in signal_filtered_jets_pt])\n",
    "signal_pt_j1 = np.array([entry[1] for entry in signal_filtered_jets_pt])\n",
    "\n",
    "# Ensure weights match the number of entries in filtered data\n",
    "valid_indices = [i for i, entry in enumerate(signal_jets_pt) if len(entry) >= 2]\n",
    "signal_weights_filtered = np.array([signal_weights[i] for i in valid_indices])\n",
    "normalized_signal_weights_filtered = signal_weights_filtered / np.mean(signal_weights_filtered)\n",
    "\n",
    "pt_j0_hist_signal.fill(PT_J0=signal_pt_j0, weight=normalized_signal_weights_filtered[:len(signal_pt_j0)])\n",
    "pt_j1_hist_signal.fill(PT_J1=signal_pt_j1, weight=normalized_signal_weights_filtered[:len(signal_pt_j1)])\n",
    "\n",
    "\n",
    "# Background processing\n",
    "for root_file in os.listdir(background_folder):\n",
    "    if root_file.endswith(\".root\"):\n",
    "        file_path = os.path.join(background_folder, root_file)\n",
    "        background_file = uproot.open(file_path)\n",
    "        background_tree = background_file[tree_name]\n",
    "\n",
    "        # Extract and normalize weights\n",
    "        background_weights = background_tree[\"Event/Event.Weight\"].array(library=\"np\")\n",
    "        normalized_background_weights = background_weights / np.mean(background_weights)\n",
    "        \n",
    "        # Extract and filter jet PT\n",
    "        background_jets_pt = background_tree[\"Jet.PT\"].array(library=\"np\")\n",
    "        background_filtered_jets_pt = [entry for entry in background_jets_pt if len(entry) >= 2]  # At least two entries\n",
    "        \n",
    "        # Extract PT J0 and PT J1\n",
    "        background_pt_j0 = np.array([entry[0] for entry in background_filtered_jets_pt])\n",
    "        background_pt_j1 = np.array([entry[1] for entry in background_filtered_jets_pt])\n",
    "\n",
    "        # Ensure weights match the entries in filtered data\n",
    "        valid_indices = [i for i, entry in enumerate(background_jets_pt) if len(entry) >= 2]\n",
    "        filtered_weights = np.array([background_weights[i] for i in valid_indices])\n",
    "        normalized_bkg_filtered_weights = filtered_weights / np.mean(filtered_weights)\n",
    "        \n",
    "        # Make sure filtered weights are aligned with filtered data\n",
    "        if len(background_pt_j0) <= len(normalized_bkg_filtered_weights):\n",
    "            pt_j0_hist_background.fill(PT_J0=background_pt_j0, weight=normalized_bkg_filtered_weights[:len(background_pt_j0)])\n",
    "            pt_j1_hist_background.fill(PT_J1=background_pt_j1, weight=normalized_bkg_filtered_weights[:len(background_pt_j1)])\n",
    "\n",
    "    \n",
    "\n",
    "# Create a figure and a set of subplots (2 columns, 1 row)\n",
    "fig, axs = plt.subplots(1, 2, figsize=(12, 6))\n",
    "\n",
    "# Plot PT(j0) Distributions on the first subplot\n",
    "axs[0].stairs(\n",
    "    pt_j0_hist_background.values(),\n",
    "    pt_j0_hist_background.axes[0].edges,\n",
    "    color='blue',\n",
    "    label='Background',\n",
    "    linewidth=2\n",
    ")\n",
    "axs[0].stairs(\n",
    "    pt_j0_hist_signal.values(),\n",
    "    pt_j0_hist_signal.axes[0].edges,\n",
    "    color='red',\n",
    "    label='Signal',\n",
    "    linewidth=2\n",
    ")\n",
    "axs[0].set_xlabel('PT(j0)')\n",
    "axs[0].set_ylabel('Counts')\n",
    "axs[0].set_title('PT(j0) Distributions')\n",
    "axs[0].legend()\n",
    "axs[0].grid(True)\n",
    "\n",
    "# Plot PT(j1) Distributions on the second subplot\n",
    "axs[1].stairs(\n",
    "    pt_j1_hist_background.values(),\n",
    "    pt_j1_hist_background.axes[0].edges,\n",
    "    color='blue',\n",
    "    label='Background',\n",
    "    linewidth=2\n",
    ")\n",
    "axs[1].stairs(\n",
    "    pt_j1_hist_signal.values(),\n",
    "    pt_j1_hist_signal.axes[0].edges,\n",
    "    color='red',\n",
    "    label='Signal',\n",
    "    linewidth=2\n",
    ")\n",
    "axs[1].set_xlabel('PT(j1)')\n",
    "axs[1].set_ylabel('Counts')\n",
    "axs[1].set_title('PT(j1) Distributions')\n",
    "axs[1].legend()\n",
    "axs[1].grid(True)\n",
    "\n",
    "# Adjust layout\n",
    "plt.tight_layout()\n",
    "\n",
    "# Show the plot\n",
    "plt.show()\n",
    "\n"
   ]
  },
  {
   "cell_type": "markdown",
   "metadata": {},
   "source": []
  },
  {
   "cell_type": "code",
   "execution_count": null,
   "metadata": {},
   "outputs": [],
   "source": []
  },
  {
   "cell_type": "markdown",
   "metadata": {},
   "source": []
  },
  {
   "cell_type": "markdown",
   "metadata": {},
   "source": []
  },
  {
   "cell_type": "markdown",
   "metadata": {},
   "source": []
  },
  {
   "cell_type": "markdown",
   "metadata": {},
   "source": []
  },
  {
   "cell_type": "markdown",
   "metadata": {},
   "source": []
  },
  {
   "cell_type": "markdown",
   "metadata": {},
   "source": []
  },
  {
   "cell_type": "markdown",
   "metadata": {},
   "source": []
  },
  {
   "cell_type": "markdown",
   "metadata": {},
   "source": []
  },
  {
   "cell_type": "markdown",
   "metadata": {},
   "source": [
    "<h1> Step 3: Iteratively Plot, then Cut <h1>"
   ]
  },
  {
   "cell_type": "code",
   "execution_count": 21,
   "metadata": {},
   "outputs": [],
   "source": [
    "#Testing stuff\n",
    "\n",
    "#this is how I might make a cut\n",
    "trial = signalevents['Jet'][signalevents.Jet.PT > 30].compute()['PT']\n",
    "trial\n"
   ]
  },
  {
   "cell_type": "markdown",
   "metadata": {},
   "source": [
    "<b> $\\eta$($j_0$) *  $\\eta$($j_1$) </b>"
   ]
  },
  {
   "cell_type": "code",
   "execution_count": null,
   "metadata": {},
   "outputs": [],
   "source": []
  },
  {
   "cell_type": "markdown",
   "metadata": {},
   "source": [
    "<b> abs($\\Delta$($j_0$,$j_1$)) </b>"
   ]
  },
  {
   "cell_type": "code",
   "execution_count": null,
   "metadata": {},
   "outputs": [],
   "source": []
  },
  {
   "cell_type": "markdown",
   "metadata": {},
   "source": [
    "<b>Pt($j_0$) </b>"
   ]
  },
  {
   "cell_type": "code",
   "execution_count": null,
   "metadata": {},
   "outputs": [],
   "source": []
  },
  {
   "cell_type": "markdown",
   "metadata": {},
   "source": [
    "<b>Pt($j_1$)</b>"
   ]
  },
  {
   "cell_type": "code",
   "execution_count": null,
   "metadata": {},
   "outputs": [],
   "source": []
  },
  {
   "cell_type": "markdown",
   "metadata": {},
   "source": [
    "<b> $M_{ET}$, <b>"
   ]
  },
  {
   "cell_type": "markdown",
   "metadata": {},
   "source": []
  },
  {
   "cell_type": "markdown",
   "metadata": {},
   "source": [
    "<h1>Step 5: Compile full Cut Chart </h1>"
   ]
  },
  {
   "cell_type": "code",
   "execution_count": null,
   "metadata": {},
   "outputs": [],
   "source": [
    "\n",
    "column_width = 12  \n",
    "\n",
    "# Create the grid header\n",
    "header_row = f\"{'Cut #':^{column_width}} | {'SM Events':^{column_width}} | {'NP Events':^{column_width}} | {'Significance':^{column_width}}\"\n",
    "print(header_row)\n",
    "\n",
    "# Print a separator line\n",
    "print(\"-\" * (len(header_row) + 1))\n",
    "\n",
    "#Initial Conditions\n",
    "init_data = f\"{'    Init':{column_width}} | {SM_events[0]:^{column_width}} | {NP_events[0]:^{column_width}} | {Significance[0]:^{column_width}.2f}\"  # \n",
    "print(init_data)\n",
    "\n",
    "# Iterate through data and format each row\n",
    "for i in range(1, num_cuts):  # Use range(1, num_cuts+1) for 1 to num_cuts (inclusive)\n",
    "    row_data = f\"{i:{column_width}} | {SM_events[i]:^{column_width}} | {NP_events[i]:^{column_width}} | {Significance[i]:^{column_width}.2f}\" \n",
    "    print(row_data)\n",
    "\n",
    "\n"
   ]
  },
  {
   "cell_type": "code",
   "execution_count": null,
   "metadata": {},
   "outputs": [],
   "source": []
  }
 ],
 "metadata": {
  "kernelspec": {
   "display_name": "base",
   "language": "python",
   "name": "python3"
  },
  "language_info": {
   "codemirror_mode": {
    "name": "ipython",
    "version": 3
   },
   "file_extension": ".py",
   "mimetype": "text/x-python",
   "name": "python",
   "nbconvert_exporter": "python",
   "pygments_lexer": "ipython3",
   "version": "3.11.9"
  }
 },
 "nbformat": 4,
 "nbformat_minor": 2
}
