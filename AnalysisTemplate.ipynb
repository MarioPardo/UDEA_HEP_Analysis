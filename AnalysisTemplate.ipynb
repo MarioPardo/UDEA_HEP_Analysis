{
 "cells": [
  {
   "cell_type": "markdown",
   "metadata": {},
   "source": [
    "<h1> Step 1: Load the data </h1>\n"
   ]
  },
  {
   "cell_type": "code",
   "execution_count": 25,
   "metadata": {},
   "outputs": [],
   "source": [
    "import pandas as pd\n",
    "import matplotlib.pyplot as plt\n",
    "from coffea.nanoevents import NanoEventsFactory, DelphesSchema\n",
    "import numpy as np\n",
    "import uproot\n",
    "import ROOT\n",
    "import awkward as ak\n",
    "import funcs\n",
    "\n",
    "\n",
    "#Signal\n",
    "signal_filepath = \"data/temp_1/run_01.root\"\n",
    "signalfile = uproot.open(signal_filepath)\n",
    "tree_name= \"Delphes\"\n",
    "signaltree = signalfile[tree_name]\n",
    "\n",
    "signalevents = NanoEventsFactory.from_root(signaltree, schemaclass=DelphesSchema).events()\n",
    "\n",
    "\n",
    "#Background\n",
    "\n",
    "\n",
    "\n",
    "\n",
    "\n",
    "\n",
    "#----\n",
    "#will store data to be used in final \"cut chart\"\n",
    "num_cuts = 5\n",
    "SM_events = [1000,700,200]\n",
    "NP_events = [500,400,300]\n",
    "Significance = [1,2.4,5]\n",
    "    #all this is temp for now\n",
    "\n",
    "\n"
   ]
  },
  {
   "cell_type": "markdown",
   "metadata": {},
   "source": [
    "<h1> Step 2: Extract Data </h1>\n"
   ]
  },
  {
   "cell_type": "code",
   "execution_count": 27,
   "metadata": {},
   "outputs": [],
   "source": [
    "#Signal Data\n",
    "\n",
    "s_event =signalevents['Event']\n",
    "weight = signalevents['Weight']\n",
    "met = signalevents['MissingET']\n",
    "jet = signalevents['Jet']\n",
    "\n",
    "weight_weight = weight.Weight.compute()\n",
    "met_met = met.MET.compute()\n",
    "met_phi = met.Phi.compute()\n",
    "jet_pt = jet.PT.compute()\n",
    "jet_eta = jet.Eta.compute()\n",
    "jet_phi = jet.Phi.compute()\n",
    "#need invariable mass\n",
    "\n",
    "signal_data = {\n",
    "    \"Weight\" : weight_weight,\n",
    "    \"Met_met\" : met_met,\n",
    "    \"Met_phi\" : met_phi,\n",
    "    \"Jet_pt\" : jet_pt,\n",
    "    \"Jet_eta\" : jet_eta,\n",
    "    \"Jet_phi\" : jet_phi\n",
    "}\n",
    "\n",
    "\n",
    "\n",
    "#Background Data\n"
   ]
  },
  {
   "cell_type": "markdown",
   "metadata": {},
   "source": [
    "<h1> Step 3: Plot Everything </h1>"
   ]
  },
  {
   "cell_type": "code",
   "execution_count": 24,
   "metadata": {},
   "outputs": [
    {
     "data": {
      "image/png": "[encoded data removed]",
      "text/plain": [
       "<Figure size 640x480 with 1 Axes>"
      ]
     },
     "metadata": {},
     "output_type": "display_data"
    }
   ],
   "source": [
    "binning = {\n",
    "    \"PT\": {\"range\": (20, 300), \"bins\": 14},  # (300 - 20) / 20 = 14 bins\n",
    "    \"Eta*Eta\": {\"range\": (-25, 25), \"bins\": 500},  # (25 - (-25)) / 0.1 = 500 bins\n",
    "    \"Delta_Eta\": {\"range\": (0, 10), \"bins\": 100},  # (10 - 0) / 0.1 = 100 bins\n",
    "    \"Transverse\": {\"range\": (500, 2000), \"bins\": 75},  # (2000 - 500) / 20 = 75 bins\n",
    "    \"Eta\": {\"range\": (-5, 5), \"bins\": 100},  # (5 - (-5)) / 0.1 = 100 bins\n",
    "    \"Phi\": {\"range\": (0, 2 * np.pi), \"bins\": 63}  # (2 * pi - 0) / 0.1 = 63 bins\n",
    "}\n",
    "\n",
    "\n",
    "\n",
    "#S_Phi_Met\n",
    "plt.hist(signal_data[\"Met_phi\"], bins=binning['Phi']['bins'], range=binning['Phi']['range'], histtype='step', linewidth=2, color='b')\n",
    "plt.xlabel('$\\phi$($M_{ET}$) in rads')\n",
    "plt.ylabel('Number of Events')\n",
    "plt.title('Distribution of $\\phi$($M_{ET})$')\n",
    "plt.grid(True)\n",
    "plt.show()\n"
   ]
  },
  {
   "cell_type": "markdown",
   "metadata": {},
   "source": [
    "<h1> Step 3: Iteratively Plot, then Cut <h1>"
   ]
  },
  {
   "cell_type": "markdown",
   "metadata": {},
   "source": [
    "<b> $\\eta$($j_0$) *  $\\eta$($j_1$) </b>"
   ]
  },
  {
   "cell_type": "code",
   "execution_count": null,
   "metadata": {},
   "outputs": [],
   "source": []
  },
  {
   "cell_type": "markdown",
   "metadata": {},
   "source": [
    "<b> abs($\\Delta$($j_0$,$j_1$)) </b>"
   ]
  },
  {
   "cell_type": "code",
   "execution_count": null,
   "metadata": {},
   "outputs": [],
   "source": []
  },
  {
   "cell_type": "markdown",
   "metadata": {},
   "source": [
    "<b>Pt($j_0$) </b>"
   ]
  },
  {
   "cell_type": "code",
   "execution_count": null,
   "metadata": {},
   "outputs": [],
   "source": []
  },
  {
   "cell_type": "markdown",
   "metadata": {},
   "source": [
    "<b>Pt($j_1$)</b>"
   ]
  },
  {
   "cell_type": "code",
   "execution_count": null,
   "metadata": {},
   "outputs": [],
   "source": []
  },
  {
   "cell_type": "markdown",
   "metadata": {},
   "source": [
    "<b> $M_{ET}$, <b>"
   ]
  },
  {
   "cell_type": "markdown",
   "metadata": {},
   "source": []
  },
  {
   "cell_type": "markdown",
   "metadata": {},
   "source": [
    "<h1>Step 5: Compile full Cut Chart </h1>"
   ]
  },
  {
   "cell_type": "code",
   "execution_count": null,
   "metadata": {},
   "outputs": [],
   "source": [
    "\n",
    "column_width = 12  \n",
    "\n",
    "# Create the grid header\n",
    "header_row = f\"{'Cut #':^{column_width}} | {'SM Events':^{column_width}} | {'NP Events':^{column_width}} | {'Significance':^{column_width}}\"\n",
    "print(header_row)\n",
    "\n",
    "# Print a separator line\n",
    "print(\"-\" * (len(header_row) + 1))\n",
    "\n",
    "#Initial Conditions\n",
    "init_data = f\"{'    Init':{column_width}} | {SM_events[0]:^{column_width}} | {NP_events[0]:^{column_width}} | {Significance[0]:^{column_width}.2f}\"  # \n",
    "print(init_data)\n",
    "\n",
    "# Iterate through data and format each row\n",
    "for i in range(1, num_cuts):  # Use range(1, num_cuts+1) for 1 to num_cuts (inclusive)\n",
    "    row_data = f\"{i:{column_width}} | {SM_events[i]:^{column_width}} | {NP_events[i]:^{column_width}} | {Significance[i]:^{column_width}.2f}\" \n",
    "    print(row_data)\n",
    "\n",
    "\n"
   ]
  },
  {
   "cell_type": "code",
   "execution_count": null,
   "metadata": {},
   "outputs": [],
   "source": []
  }
 ],
 "metadata": {
  "kernelspec": {
   "display_name": "base",
   "language": "python",
   "name": "python3"
  },
  "language_info": {
   "codemirror_mode": {
    "name": "ipython",
    "version": 3
   },
   "file_extension": ".py",
   "mimetype": "text/x-python",
   "name": "python",
   "nbconvert_exporter": "python",
   "pygments_lexer": "ipython3",
   "version": "3.11.9"
  }
 },
 "nbformat": 4,
 "nbformat_minor": 2
}
