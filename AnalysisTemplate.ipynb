{
 "cells": [
  {
   "cell_type": "markdown",
   "metadata": {},
   "source": [
    "<h1> Setup </h1>\n"
   ]
  },
  {
   "cell_type": "code",
   "execution_count": 1,
   "metadata": {},
   "outputs": [],
   "source": [
    "import matplotlib.pyplot as plt\n",
    "import awkward as ak\n",
    "import pandas as pd\n",
    "import numpy as np\n",
    "import uproot\n",
    "from hist import Hist, axis\n",
    "import os\n",
    "\n",
    "#Constants\n",
    "current_dir = os.getcwd()\n",
    "tree_name= \"Delphes\"  #all of them are named delphes\n",
    "luminescence = 300 #fb\n",
    "\n",
    "#Signal\n",
    "\n",
    "signal_folder = \"Signals_DMSimpl_Spin0/\"\n",
    "signal_dir = os.path.join(current_dir, signal_folder)# Path to Signals_DMSimpl_Spin0 folder\n",
    "signal_files = {     #times 1000 to convert from pb to fb\n",
    "            \"VBF_DM_MY0_100_MXD_10.root\": 0.0038 * 1000,\n",
    "            \"VBF_DM_MY0_500_MXD_10.root\" : 0.0086 * 1000,\n",
    "            \"VBF_DM_MY0_1000_MXD_10.root\" :  0.0018* 1000,\n",
    "            \"VBF_DM_MY0_2000_MXD_10.root\" : 0.00026 * 1000\n",
    "            }\n",
    "\n",
    "\n",
    "#Background\n",
    "background_folders = {\"BKG_Wjets_WToLNu\" : 47744.85 * 1000,\n",
    "                       \"BKG_Zjets_ZToNuNu\": 8818.65 * 1000}  #foldername, significance\n",
    "\n",
    "\n",
    "\n",
    "#will store data to be used in final \"cut chart\"\n",
    "cuts_strings = []\n",
    "Signal_numevents = []\n",
    "Background_numevents = []\n",
    "significances = []\n",
    "   \n"
   ]
  },
  {
   "cell_type": "markdown",
   "metadata": {},
   "source": [
    "<h2> Bins </h2>"
   ]
  },
  {
   "cell_type": "code",
   "execution_count": 2,
   "metadata": {},
   "outputs": [],
   "source": [
    "binning = {\n",
    "    \"PT\": {\"range\": (20, 1000), \"bins\": 14},  # (300 - 20) / 20 = 14 bins\n",
    "    \"Eta*Eta\": {\"range\": (-25, 25), \"bins\": 500},  # (25 - (-25)) / 0.1 = 500 bins\n",
    "    \"Delta_Eta\": {\"range\": (0, 10), \"bins\": 100},  # (10 - 0) / 0.1 = 100 bins\n",
    "    \"Transverse\": {\"range\": (0, 500), \"bins\": 100},  # (2000 - 500) / 20 = 75 bins\n",
    "    \"Eta\": {\"range\": (-5, 5), \"bins\": 100},  # (5 - (-5)) / 0.1 = 100 bins\n",
    "    \"Phi\": {\"range\": (-(np.pi), np.pi), \"bins\": 63},  \n",
    "    \"Invariant\": {\"range\": (50, 3000), \"bins\": 148}  # (3000 - 50) / 20 = 147.5, rounded to 148 bins\n",
    "}\n",
    "\n"
   ]
  },
  {
   "cell_type": "markdown",
   "metadata": {},
   "source": [
    "<h2> Functions </h2>"
   ]
  },
  {
   "cell_type": "markdown",
   "metadata": {},
   "source": [
    "<h4>Calculations </h4>"
   ]
  },
  {
   "cell_type": "code",
   "execution_count": 3,
   "metadata": {},
   "outputs": [],
   "source": [
    "def calculateWeight(num_events, effective_area, lumi):\n",
    "    return effective_area * lumi / num_events\n",
    "\n",
    "def calculateSignificance(numSig,numBkg):\n",
    "    return numSig/np.sqrt(numSig + numBkg)"
   ]
  },
  {
   "cell_type": "markdown",
   "metadata": {},
   "source": [
    "<h4> Tree Functions </h4>"
   ]
  },
  {
   "cell_type": "code",
   "execution_count": 4,
   "metadata": {},
   "outputs": [],
   "source": [
    "def openTree(tree_filepath):\n",
    "    #Open tree and only keep stuff that we need\n",
    "    \n",
    "    file = uproot.open(tree_filepath)\n",
    "    tree = file[tree_name]\n",
    "\n",
    "    #What we want to keep\n",
    "    branches_wanted = [\n",
    "        \"MissingET.MET\",\n",
    "        \"MissingET.Phi\",\n",
    "        \"Jet.PT\",\n",
    "        \"Jet.Phi\",\n",
    "        \"Jet.Eta\",\n",
    "        \"Jet.Mass\"\n",
    "    ]\n",
    "    df = tree.arrays(branches_wanted,library=\"pd\")\n",
    "\n",
    "    return df"
   ]
  },
  {
   "cell_type": "code",
   "execution_count": 5,
   "metadata": {},
   "outputs": [],
   "source": [
    "def applySingleCut(df, mask_function):\n",
    "    mask = mask_function(df)\n",
    "    return df[mask]\n"
   ]
  },
  {
   "cell_type": "code",
   "execution_count": 6,
   "metadata": {},
   "outputs": [],
   "source": [
    "def applyMultipleCuts(df, mask_functions):\n",
    "    \n",
    "    for mask in mask_functions:\n",
    "        df = applySingleCut(df, mask)\n",
    "\n",
    "    return df"
   ]
  },
  {
   "cell_type": "markdown",
   "metadata": {},
   "source": [
    "<h4> Calculate All Weights </h4>"
   ]
  },
  {
   "cell_type": "code",
   "execution_count": 7,
   "metadata": {},
   "outputs": [],
   "source": [
    "signal_weight_list = []\n",
    "\n",
    "# Iterate over each signal file\n",
    "for signal_file in sorted(os.listdir(signal_dir)):  #sorted so that it's the same order each time\n",
    "    if signal_file.endswith(\".root\"):\n",
    "        file_path = os.path.join(signal_dir, signal_file)\n",
    "        \n",
    "        # Check if the root file is in the signal_files dictionary\n",
    "        if signal_file in signal_files:\n",
    "            signal_df = openTree(file_path)\n",
    "            signal_temp = signal_df[\"MissingET.MET\"].values\n",
    "\n",
    "            numSigEvents = len(signal_temp)\n",
    "            tempSigWeight = calculateWeight(num_events=numSigEvents,effective_area= signal_files[signal_file],lumi=luminescence)\n",
    "            signal_weight_list.append(tempSigWeight)\n",
    "        else:\n",
    "            print(f\"Warning: {signal_file} not found in signal_files dictionary.\")\n",
    "\n",
    "\n",
    "background_weight_list = []\n",
    "for folder_name in sorted(os.listdir(current_dir)):\n",
    "        folder_path = os.path.join(current_dir, folder_name)\n",
    "\n",
    "        # Check if the current item is a directory and if its name is in the background_folders dictionary\n",
    "        if os.path.isdir(folder_path) and folder_name in background_folders:\n",
    "            cross_section = background_folders[folder_name]\n",
    "\n",
    "            for root_file in os.listdir(folder_path):\n",
    "                if root_file.endswith(\".root\"):\n",
    "                    file_path = os.path.join(folder_path, root_file)\n",
    "                    background_df = openTree(file_path) \n",
    "                    background_temp = background_df[\"MissingET.MET\"].values #arbitraty branch \n",
    "\n",
    "                    numBkgEvents = len(background_temp)\n",
    "                    tempBkgWeight = calculateWeight(num_events=numBkgEvents, effective_area=cross_section, lumi=luminescence)\n",
    "\n",
    "                    background_weight_list.append(tempBkgWeight)"
   ]
  },
  {
   "cell_type": "code",
   "execution_count": 8,
   "metadata": {},
   "outputs": [
    {
     "name": "stdout",
     "output_type": "stream",
     "text": [
      "[0.0108, 0.0228, 0.0015599999999999998, 0.0516]\n"
     ]
    }
   ],
   "source": [
    "print(signal_weight_list)"
   ]
  },
  {
   "cell_type": "code",
   "execution_count": 9,
   "metadata": {},
   "outputs": [
    {
     "name": "stdout",
     "output_type": "stream",
     "text": [
      "[353665.55555555556, 633080.8839779006, 353438.6566648571, 353822.81013783906, 353499.7161825317, 354164.0086047029, 354286.6506715476, 355217.9897329068, 354663.86866736, 354199.04053018126, 353299.1712298357, 2790464.6405610754, 354453.2293986637, 353884.0024706609, 353525.8910060223, 355244.41964285716, 354418.14717672096, 353011.82994454715, 354418.14717672096, 1796044.514106583, 67591.40032191308, 67837.50865406805, 67679.58557175749, 67802.73712806581, 67915.87513477435, 67928.08175212468, 67544.80698529411, 67712.49776048731, 67579.31439664861, 67703.83355512335, 68039.88889746161, 67900.18735723635, 67615.58514580724, 67693.43943503403, 68025.8928801008, 67781.89131715815, 67774.94556167541, 67754.11683355956, 67903.67290367291, 67367.65042906979, 67868.83353428594, 67846.20710878597, 67608.67343027267, 67768.00122953969, 67896.70216861286, 67714.23086767341, 67938.54805988546, 67799.26193588068, 67768.00122953969, 67893.21733774732, 67881.02324626675, 67522.39605931446, 67894.9597084638, 67959.49035423463, 67766.26536885246, 67660.54576609294, 67721.16418368914, 67868.83353428594, 67696.90378710338, 67707.29897118288, 67524.11944869831]\n"
     ]
    }
   ],
   "source": [
    "print(background_weight_list)"
   ]
  },
  {
   "cell_type": "code",
   "execution_count": 10,
   "metadata": {},
   "outputs": [],
   "source": [
    "def getJetsData(dataname, masklist): \n",
    "    #used when we are working with J0,J1 stuff (which is often)\n",
    "\n",
    "\n",
    "    #Signal Processing\n",
    "    signal_j0_list = []\n",
    "    signal_j1_list = []\n",
    "\n",
    "    for signal_file in sorted(os.listdir(signal_dir)):\n",
    "        if signal_file.endswith(\".root\"):\n",
    "            file_path = os.path.join(signal_dir, signal_file)\n",
    "            \n",
    "            # Check if the root file is in the signal_files dictionary\n",
    "            if signal_file in signal_files:\n",
    "                signal_df = openTree(file_path)\n",
    "\n",
    "                if(masklist is not None):\n",
    "                    signal_df = applyMultipleCuts(signal_df,masklist)\n",
    "\n",
    "\n",
    "                 # Extract and filter jet data\n",
    "                signal_jets = signal_df[\"Jet.\" + dataname].values\n",
    "                signal_filtered_jets = [entry for entry in signal_jets if len(entry) >= 2]  # At least two entries (j0,j1)\n",
    "\n",
    "                # Extract J0 and J1\n",
    "                signal_j0 = np.array([entry[0] for entry in signal_filtered_jets])\n",
    "                signal_j1 = np.array([entry[1] for entry in signal_filtered_jets])\n",
    "\n",
    "                signal_j0_list.append(signal_j0)\n",
    "                signal_j1_list.append(signal_j1)\n",
    "\n",
    "    \n",
    "\n",
    "    # Background processing\n",
    "    background_j0_list = []\n",
    "    background_j1_list = []\n",
    "\n",
    "    for folder_name in sorted(os.listdir(current_dir)):\n",
    "        folder_path = os.path.join(current_dir, folder_name)\n",
    "\n",
    "        # Check if the current item is a directory and if its name is in the background_folders dictionary\n",
    "        if os.path.isdir(folder_path) and folder_name in background_folders:\n",
    "\n",
    "            for root_file in os.listdir(folder_path):\n",
    "                if root_file.endswith(\".root\"):\n",
    "                    file_path = os.path.join(folder_path, root_file)\n",
    "                    background_df = openTree(file_path)  \n",
    "\n",
    "                    if(masklist is not None):\n",
    "                        background_df = applyMultipleCuts(background_df, masklist)\n",
    "\n",
    "                    # Extract and filter jet data\n",
    "                    background_jets = background_df[\"Jet.\" + dataname].values\n",
    "                    background_filtered_jets = [entry for entry in background_jets if len(entry) >= 2]  # At least two entries\n",
    "\n",
    "                    # Extract J0 and J1\n",
    "                    background_j0 = np.array([entry[0] for entry in background_filtered_jets])\n",
    "                    background_j1 = np.array([entry[1] for entry in background_filtered_jets])\n",
    "\n",
    "                  \n",
    "                    background_j0_list.append(background_j0)\n",
    "                    background_j1_list.append(background_j1)\n",
    "                    \n",
    "\n",
    "    return signal_j0_list, signal_j1_list, background_j0_list, background_j1_list"
   ]
  },
  {
   "cell_type": "code",
   "execution_count": 11,
   "metadata": {},
   "outputs": [],
   "source": [
    "def PlotJets(binname,dataname,masklist):\n",
    "    j0_hist_background = Hist(\n",
    "            axis.Regular(binning[binname][\"bins\"], *binning[binname][\"range\"], name=\"thedata\", label=dataname+\"J0\")\n",
    "        )\n",
    "    j0_hist_signal = Hist(\n",
    "        axis.Regular(binning[binname][\"bins\"], *binning[binname][\"range\"], name=\"thedata\", label=dataname+\"J0\")\n",
    "    )\n",
    "\n",
    "    #J1\n",
    "    j1_hist_background = Hist(\n",
    "        axis.Regular(binning[binname][\"bins\"], *binning[binname][\"range\"], name=\"thedata\", label=dataname+\"J1\")\n",
    "    )\n",
    "    j1_hist_signal = Hist(\n",
    "        axis.Regular(binning[binname][\"bins\"], *binning[binname][\"range\"], name=\"thedata\", label=dataname+\"J1\")\n",
    "    )\n",
    "\n",
    "    j0siglist, j1siglist, bkgj0list, bkgj1list,  = getJetsData(dataname,masklist)\n",
    "\n",
    "    for i in range(len(j0siglist)):\n",
    "        j0_hist_signal.fill(thedata=j0siglist[i], weight=signal_weight_list[i])\n",
    "        j1_hist_signal.fill(thedata=j1siglist[i], weight=signal_weight_list[i])\n",
    "\n",
    "\n",
    "    for i in range(len(background_weight_list)):\n",
    "        j0_hist_background.fill(thedata=bkgj0list[i], weight=background_weight_list[i])\n",
    "        j1_hist_background.fill(thedata=bkgj1list[i], weight=background_weight_list[i])\n",
    "    \n",
    "\n",
    "    # Create a figure and a set of subplots (2 columns, 1 row)\n",
    "    fig, axs = plt.subplots(1, 2, figsize=(12, 6))\n",
    "\n",
    "    # Plot J0\n",
    "    axs[0].stairs(\n",
    "        j0_hist_background.values(),\n",
    "        j0_hist_background.axes[0].edges,\n",
    "        color='blue',\n",
    "        label='Background',\n",
    "        linewidth=2\n",
    "    )\n",
    "    axs[0].stairs(\n",
    "        j0_hist_signal.values(),\n",
    "        j0_hist_signal.axes[0].edges,\n",
    "        color='red',\n",
    "        label='Signal',\n",
    "        linewidth=3\n",
    "    )\n",
    "    axs[0].set_xlabel(dataname+'(j0)')\n",
    "    axs[0].set_ylabel('Counts')\n",
    "    axs[0].set_yscale('log')\n",
    "    axs[0].set_title(dataname+'(j0) Distributions')\n",
    "    axs[0].legend()\n",
    "    axs[0].grid(True)\n",
    "\n",
    "    # Plot J1\n",
    "    axs[1].stairs(\n",
    "        j1_hist_background.values(),\n",
    "        j1_hist_background.axes[0].edges,\n",
    "        color='blue',\n",
    "        label='Background',\n",
    "        linewidth=2\n",
    "    )\n",
    "    axs[1].stairs(\n",
    "        j1_hist_signal.values(),\n",
    "        j1_hist_signal.axes[0].edges,\n",
    "        color='red',\n",
    "        label='Signal',\n",
    "        linewidth=3\n",
    "    )\n",
    "    axs[1].set_xlabel(dataname+'(j1)')\n",
    "    axs[1].set_ylabel('Counts')\n",
    "    axs[1].set_yscale('log')\n",
    "    axs[1].set_title(dataname+'(j1) Distributions')\n",
    "    axs[1].legend()\n",
    "    axs[1].grid(True)\n",
    "\n",
    "    # Adjust layout\n",
    "    plt.tight_layout()\n",
    "\n",
    "    # Show the plot\n",
    "    plt.show()\n",
    "\n",
    "\n",
    "    #signal and background events to for the 'cut chart'\n",
    "    numSigEvents = j0_hist_signal.count().value + j1_hist_signal.count().value\n",
    "    numBkgEvents = j0_hist_background.count().value + j1_hist_background()\n",
    "\n",
    "    return numSigEvents, numBkgEvents\n"
   ]
  },
  {
   "cell_type": "markdown",
   "metadata": {},
   "source": [
    "<h1> Plot Everything</h1>"
   ]
  },
  {
   "cell_type": "markdown",
   "metadata": {},
   "source": [
    "<h3> MET <h3>"
   ]
  },
  {
   "cell_type": "code",
   "execution_count": 12,
   "metadata": {},
   "outputs": [],
   "source": [
    "def PlotMET(masklist):\n",
    "    met_hist_background = Hist(\n",
    "        axis.Regular(binning[\"Transverse\"][\"bins\"], *binning[\"Transverse\"][\"range\"], name=\"MET\", label=\"MET\")\n",
    "    )\n",
    "    met_hist_signal = Hist(\n",
    "        axis.Regular(binning[\"Transverse\"][\"bins\"], *binning[\"Transverse\"][\"range\"], name=\"MET\", label=\"MET\")\n",
    "    )\n",
    "\n",
    "    #Signal Data\n",
    "\n",
    "    counter = 0 #which weight we use \n",
    "    for signal_file in sorted(os.listdir(signal_dir)):\n",
    "        if signal_file.endswith(\".root\"):\n",
    "            file_path = os.path.join(signal_dir, signal_file)\n",
    "            \n",
    "            # Check if the root file is in the signal_files dictionary\n",
    "            if signal_file in signal_files:\n",
    "                signal_df = openTree(file_path)\n",
    "    \n",
    "                if(masklist is not None):\n",
    "                    signal_df = applyMultipleCuts(signal_df,masklist)\n",
    "    \n",
    "                signal_met = signal_df[\"MissingET.MET\"].values\n",
    "                signal_met = ak.flatten(signal_met).to_numpy()\n",
    "    \n",
    "                met_hist_signal.fill(MET=signal_met,weight = signal_weight_list[counter])\n",
    "                counter += 1\n",
    "\n",
    "\n",
    "\n",
    "    #Background\n",
    "    counter = 0\n",
    "    for folder_name in os.listdir(current_dir):\n",
    "        folder_path = os.path.join(current_dir, folder_name)\n",
    "            \n",
    "        # Check if the current item is a directory and if its name is in the background_folders dictionary\n",
    "        if os.path.isdir(folder_path) and folder_name in background_folders:\n",
    "            \n",
    "            \n",
    "            for root_file in os.listdir(folder_path):\n",
    "                if root_file.endswith(\".root\"):\n",
    "                    file_path = os.path.join(folder_path, root_file)\n",
    "                    background_df = openTree(file_path)\n",
    "\n",
    "                    if(masklist is not None):\n",
    "                        background_df = applyMultipleCuts(background_df, masklist)\n",
    "\n",
    "                    background_met = background_df[\"MissingET.MET\"].values\n",
    "                    background_met = ak.flatten(background_met).to_numpy()\n",
    "                   \n",
    "                    met_hist_background.fill(MET=background_met,weight =background_weight_list[counter])\n",
    "                    counter+=1\n",
    "                \n",
    "                    \n",
    "\n",
    "\n",
    "\n",
    "\n",
    "    #Set up histogram\n",
    "    plt.figure(figsize=(10, 6))\n",
    "\n",
    "    # Background histogram\n",
    "    plt.stairs(\n",
    "        met_hist_background.values(),\n",
    "        met_hist_background.axes[0].edges,\n",
    "        color='blue',\n",
    "        label='Background',\n",
    "        linewidth=2\n",
    "    )\n",
    "\n",
    "    # Signal histogram\n",
    "    plt.stairs(\n",
    "        met_hist_signal.values(),\n",
    "        met_hist_signal.axes[0].edges,\n",
    "        color='red',\n",
    "        label='Signal',\n",
    "        linewidth=3\n",
    "    )\n",
    "\n",
    "    # Add labels and legend\n",
    "    plt.xlabel('MET')\n",
    "    plt.ylabel('Counts')\n",
    "    plt.yscale('log')\n",
    "    plt.title('MET Distribution')\n",
    "    plt.legend()\n",
    "    plt.grid(True)\n",
    "\n",
    "    # Show the plot\n",
    "    plt.show()\n",
    "\n",
    "\n",
    "    #signal and background events to for the 'cut chart'\n",
    "    numSigEvents = met_hist_signal.count().value \n",
    "    numBkgEvents = met_hist_background.count().value\n",
    "\n",
    "    return numSigEvents, numBkgEvents"
   ]
  },
  {
   "cell_type": "code",
   "execution_count": null,
   "metadata": {},
   "outputs": [],
   "source": [
    "PlotMET(None)"
   ]
  },
  {
   "cell_type": "markdown",
   "metadata": {},
   "source": [
    "<h3> Phi(Met) </h3>"
   ]
  },
  {
   "cell_type": "code",
   "execution_count": null,
   "metadata": {},
   "outputs": [],
   "source": [
    "def PlotPhiMet(masklist):\n",
    "\n",
    "    met_phi_hist_background = Hist(\n",
    "        axis.Regular(binning[\"Phi\"][\"bins\"], *binning[\"Phi\"][\"range\"], name=\"MET_Phi\", label=\"MET Phi (rad)\")\n",
    "    )\n",
    "    met_phi_hist_signal = Hist(\n",
    "        axis.Regular(binning[\"Phi\"][\"bins\"], *binning[\"Phi\"][\"range\"], name=\"MET_Phi\", label=\"MET Phi (rad)\")\n",
    "    )\n",
    "\n",
    "\n",
    "    #Signal\n",
    "    counter = 0 #which weight we use \n",
    "    for signal_file in sorted(os.listdir(signal_dir)):\n",
    "        if signal_file.endswith(\".root\"):\n",
    "            file_path = os.path.join(signal_dir, signal_file)\n",
    "            \n",
    "            # Check if the root file is in the signal_files dictionary\n",
    "            if signal_file in signal_files:\n",
    "                signal_df = openTree(file_path)\n",
    "    \n",
    "                if(masklist is not None):\n",
    "                    signal_df = applyMultipleCuts(signal_df,masklist)\n",
    "    \n",
    "                signal_met_phi = signal_df[\"MissingET.Phi\"].values\n",
    "                signal_met_phi = ak.flatten(signal_met_phi).to_numpy()\n",
    "    \n",
    "                met_phi_hist_signal.fill(MET_Phi=signal_met_phi,weight = signal_weight_list[counter])\n",
    "                counter += 1\n",
    "\n",
    "    #Background\n",
    "    counter = 0\n",
    "    for folder_name in os.listdir(current_dir):\n",
    "        folder_path = os.path.join(current_dir, folder_name)\n",
    "            \n",
    "        # Check if the current item is a directory and if its name is in the background_folders dictionary\n",
    "        if os.path.isdir(folder_path) and folder_name in background_folders:\n",
    "            cross_section = background_folders[folder_name]\n",
    "            \n",
    "            for root_file in os.listdir(folder_path):\n",
    "                if root_file.endswith(\".root\"):\n",
    "                    file_path = os.path.join(folder_path, root_file)\n",
    "                    background_df = openTree(file_path)\n",
    "\n",
    "                    if(masklist is not None):\n",
    "                        background_df = applyMultipleCuts(background_df, masklist)\n",
    "\n",
    "                    background_met_phi = background_df[\"MissingET.Phi\"].values\n",
    "                    background_met_phi = ak.flatten(background_met_phi).to_numpy()\n",
    "                    \n",
    "                    met_phi_hist_background.fill(MET_Phi=background_met_phi,weight =background_weight_list[counter])\n",
    "                    counter += 1\n",
    "                    \n",
    "\n",
    "\n",
    "    #Set up histogram\n",
    "    plt.figure(figsize=(10, 6))\n",
    "\n",
    "    # Background histogram\n",
    "    plt.stairs(\n",
    "        met_phi_hist_background.values(),\n",
    "        met_phi_hist_background.axes[0].edges,\n",
    "        color='blue',\n",
    "        label='Background',\n",
    "        linewidth=2\n",
    "    )\n",
    "\n",
    "    # Signal histogram\n",
    "    plt.stairs(\n",
    "        met_phi_hist_signal.values(),\n",
    "        met_phi_hist_signal.axes[0].edges,\n",
    "        color='red',\n",
    "        label='Signal',\n",
    "        linewidth=3\n",
    "    )\n",
    "\n",
    "    # Add labels and legend\n",
    "    plt.xlabel('MET Phi (rad)')\n",
    "    plt.ylabel('Counts')\n",
    "    plt.yscale('log')\n",
    "    plt.title('MET Phi Distribution')\n",
    "    plt.legend()\n",
    "    plt.grid(True)\n",
    "\n",
    "    # Show the plot\n",
    "    plt.show()\n",
    "\n",
    "\n",
    "    #signal and background events to for the 'cut chart'\n",
    "    numSigEvents = met_phi_hist_signal.count().value \n",
    "    numBkgEvents = met_phi_hist__background.count().value\n",
    "\n",
    "    return numSigEvents, numBkgEvents"
   ]
  },
  {
   "cell_type": "code",
   "execution_count": null,
   "metadata": {},
   "outputs": [],
   "source": [
    "PlotPhiMet(None)"
   ]
  },
  {
   "cell_type": "markdown",
   "metadata": {},
   "source": []
  },
  {
   "cell_type": "markdown",
   "metadata": {},
   "source": [
    "<h2> Jets </h2>"
   ]
  },
  {
   "cell_type": "markdown",
   "metadata": {},
   "source": [
    "<h3> PT(j0) , PT(j1) </h3>"
   ]
  },
  {
   "cell_type": "code",
   "execution_count": null,
   "metadata": {},
   "outputs": [],
   "source": [
    "PlotJets(\"PT\",\"PT\",None)"
   ]
  },
  {
   "cell_type": "markdown",
   "metadata": {},
   "source": [
    "<h3>Phi(J0,J1)</h3>"
   ]
  },
  {
   "cell_type": "code",
   "execution_count": null,
   "metadata": {},
   "outputs": [],
   "source": [
    "PlotJets(\"Phi\",\"Phi\",None)"
   ]
  },
  {
   "cell_type": "markdown",
   "metadata": {},
   "source": [
    "<h3> Eta (j0, j1) </h3>"
   ]
  },
  {
   "cell_type": "code",
   "execution_count": null,
   "metadata": {},
   "outputs": [],
   "source": [
    "PlotJets(\"Eta\",\"Eta\",None)"
   ]
  },
  {
   "cell_type": "markdown",
   "metadata": {},
   "source": []
  },
  {
   "cell_type": "markdown",
   "metadata": {},
   "source": [
    "<h3>Eta(j0) * Eta(j1)</h3>"
   ]
  },
  {
   "cell_type": "code",
   "execution_count": null,
   "metadata": {},
   "outputs": [],
   "source": [
    "def PlotEtaEta(masklist):\n",
    "\n",
    "    etaeta_hist_background = Hist(\n",
    "        axis.Regular(binning[\"Eta*Eta\"][\"bins\"], *binning[\"Eta*Eta\"][\"range\"], name=\"Eta*Eta\", label=\"Eta*Eta\")\n",
    "    )\n",
    "    etaeta_hist_signal = Hist(\n",
    "        axis.Regular(binning[\"Eta*Eta\"][\"bins\"], *binning[\"Eta*Eta\"][\"range\"], name=\"Eta*Eta\", label=\"Eta*Eta\")\n",
    "    )\n",
    "\n",
    "    j0siglist, j1siglist, bkgj0list, bkgj1list, = getJetsData(\"Eta\",masklist)\n",
    "\n",
    "    for i in range(len(j0siglist)):\n",
    "        etaeta_hist_signal.fill(j0siglist[i]*j1siglist[i], weight=signal_weight_list[i])\n",
    "\n",
    "    for i in range(len(background_weight_list)):\n",
    "        etaeta_hist_background.fill(bkgj0list[i]*bkgj1list[i], weight = background_weight_list[i])\n",
    "\n",
    "\n",
    "    #Set up histogram\n",
    "    plt.figure(figsize=(10, 6))\n",
    "\n",
    "    # Background histogram\n",
    "    plt.stairs(\n",
    "        etaeta_hist_background.values(),\n",
    "        etaeta_hist_background.axes[0].edges,\n",
    "        color='blue',\n",
    "        label='Background',\n",
    "        linewidth=2\n",
    "    )\n",
    "\n",
    "    # Signal histogram\n",
    "    plt.stairs(\n",
    "        etaeta_hist_signal.values(),\n",
    "        etaeta_hist_signal.axes[0].edges,\n",
    "        color='red',\n",
    "        label='Signal',\n",
    "        linewidth=3\n",
    "    )\n",
    "\n",
    "    # Add labels and legend\n",
    "    plt.xlabel('Eta(j0) * Eta(j1)')\n",
    "    plt.ylabel('Counts')\n",
    "    plt.yscale('log')\n",
    "    plt.title('Eta * Eta Distribution')\n",
    "    plt.legend()\n",
    "    plt.grid(True)\n",
    "\n",
    "    # Show the plot\n",
    "    plt.show()\n",
    "\n",
    "    #returns hist itself, for use in the Significance function\n",
    "    return etaeta_hist_signal, etaeta_hist_background\n",
    "\n",
    "    "
   ]
  },
  {
   "cell_type": "code",
   "execution_count": null,
   "metadata": {},
   "outputs": [],
   "source": [
    "PlotEtaEta(None)"
   ]
  },
  {
   "cell_type": "markdown",
   "metadata": {},
   "source": [
    "<h3> Abs(Delta(J0,J1)) </h3>"
   ]
  },
  {
   "cell_type": "code",
   "execution_count": null,
   "metadata": {},
   "outputs": [],
   "source": [
    "def PlotDeltaJets(masklist):\n",
    "\n",
    "    deltaeta_hist_background = Hist(\n",
    "        axis.Regular(binning[\"Delta_Eta\"][\"bins\"], *binning[\"Delta_Eta\"][\"range\"], name=\"DeltaEta\", label=\"DeltaEta\")\n",
    "    )\n",
    "\n",
    "    deltaeta_hist_signal = Hist(\n",
    "        axis.Regular(binning[\"Delta_Eta\"][\"bins\"], *binning[\"Delta_Eta\"][\"range\"], name=\"DeltaEta\", label=\"DeltaEta\")\n",
    "    )\n",
    "\n",
    "\n",
    "    j0siglist, j1siglist, bkgj0list, bkgj1list = getJetsData(\"Eta\",masklist)\n",
    "\n",
    "    \n",
    "    for i in range(len(j0siglist)):\n",
    "        deltaeta_hist_signal.fill(np.abs(j0siglist[i]-j1siglist[i]), weight=signal_weight_list[i])\n",
    "\n",
    "    for i in range(len(background_weight_list)):\n",
    "        deltaeta_hist_background.fill(np.abs(bkgj0list[i]-bkgj1list[i]), weight = background_weight_list[i])\n",
    "\n",
    "\n",
    "    #Set up histogram\n",
    "    plt.figure(figsize=(10, 6))\n",
    "\n",
    "    # Background histogram\n",
    "    plt.stairs(\n",
    "        deltaeta_hist_background.values(),\n",
    "        deltaeta_hist_background.axes[0].edges,\n",
    "        color='blue',\n",
    "        label='Background',\n",
    "        linewidth=2\n",
    "    )\n",
    "\n",
    "    # Signal histogram\n",
    "    plt.stairs(\n",
    "        deltaeta_hist_signal.values(),\n",
    "        deltaeta_hist_signal.axes[0].edges,\n",
    "        color='red',\n",
    "        label='Signal',\n",
    "        linewidth=3\n",
    "    )\n",
    "\n",
    "    # Add labels and legend\n",
    "    plt.xlabel('Abs(Delta Eta) (j0, j1)')\n",
    "    plt.ylabel('Counts')\n",
    "    plt.yscale('log')\n",
    "    plt.title('Delta Eta Distribution')\n",
    "    plt.legend()\n",
    "    plt.grid(True)\n",
    "\n",
    "\n",
    "    # Show the plot\n",
    "    plt.show()\n",
    "\n",
    "    #returns hist itself, for use in the Significance function\n",
    "    return deltaeta_hist_signal, deltaeta_hist_background"
   ]
  },
  {
   "cell_type": "code",
   "execution_count": null,
   "metadata": {},
   "outputs": [],
   "source": [
    "PlotDeltaJets(None)"
   ]
  },
  {
   "cell_type": "markdown",
   "metadata": {},
   "source": [
    "<h3> Invariant Mass (J0 J1) </h3>"
   ]
  },
  {
   "cell_type": "code",
   "execution_count": null,
   "metadata": {},
   "outputs": [],
   "source": [
    "def calc_invariant_mass(pt0, eta0, phi0, m0, pt1, eta1, phi1, m1):\n",
    "    # Energy and momentum components for Jet0\n",
    "    pz0 = pt0 * np.sinh(eta0)\n",
    "    e0 = np.sqrt(pt0**2 + pz0**2 + m0**2)\n",
    "    px0 = pt0 * np.cos(phi0)\n",
    "    py0 = pt0 * np.sin(phi0)\n",
    "\n",
    "    # Energy and momentum components for Jet1\n",
    "    pz1 = pt1 * np.sinh(eta1)\n",
    "    e1 = np.sqrt(pt1**2 + pz1**2 + m1**2)\n",
    "    px1 = pt1 * np.cos(phi1)\n",
    "    py1 = pt1 * np.sin(phi1)\n",
    "\n",
    "    # Invariant mass calculation\n",
    "    e_total = e0 + e1\n",
    "    px_total = px0 + px1\n",
    "    py_total = py0 + py1\n",
    "    pz_total = pz0 + pz1\n",
    "\n",
    "    m2 = e_total**2 - (px_total**2 + py_total**2 + pz_total**2)\n",
    "    m2 = np.maximum(m2, 0)  # This will replace negative values with 0\n",
    "    return np.sqrt(m2)\n"
   ]
  },
  {
   "cell_type": "code",
   "execution_count": null,
   "metadata": {},
   "outputs": [],
   "source": [
    "def PlotInvariantMass(masklist):\n",
    "\n",
    "    invariant_hist_background = Hist(\n",
    "        axis.Regular(binning[\"Invariant\"][\"bins\"], *binning[\"Invariant\"][\"range\"], name=\"Invariant\", label=\"Invariant\")\n",
    "    )\n",
    "\n",
    "    invariant_hist_signal = Hist(\n",
    "        axis.Regular(binning[\"Invariant\"][\"bins\"], *binning[\"Invariant\"][\"range\"], name=\"Invariant\", label=\"Invariant\")\n",
    "    )\n",
    "\n",
    "    #Data needed: pt0, eta0, phi0, m0, pt1, eta1, phi1, m1\n",
    "\n",
    "    ptj0siglist, ptj1siglist, ptbkgj0list, ptbkgj1list  = getJetsData(\"PT\",masklist)\n",
    "    etaj0siglist, etaj1siglist, etabkgj0list, etabkgj1list = getJetsData(\"Eta\",masklist)\n",
    "    phij0siglist, phij1siglist, phibkgj0list, phibkgj1list  = getJetsData(\"Phi\",masklist)\n",
    "    massj0siglist, massj1siglist, massbkgj0list, massbkgj1list   = getJetsData(\"Mass\",masklist)\n",
    "\n",
    "    for i in range(len(ptj0siglist)):\n",
    "        \n",
    "        invariant_hist_signal.fill(\n",
    "            calc_invariant_mass(pt0=ptj0siglist[i], eta0=etaj0siglist[i], phi0 = phij0siglist[i],m0=massj0siglist[i],\n",
    "                        pt1=ptj1siglist[i], eta1=etaj1siglist[i], phi1 = phij1siglist[i],m1=massj1siglist[i]),\n",
    "            weight = signal_weight_list[i])\n",
    "    \n",
    "\n",
    "    for i in range(len(background_weight_list)):\n",
    "        invariant_hist_background.fill(\n",
    "        calc_invariant_mass(\n",
    "                    pt0=ptbkgj0list[i], eta0=etabkgj0list[i], phi0 = phibkgj0list[i],m0=massbkgj0list[i],\n",
    "                    pt1=ptbkgj1list[i], eta1=etabkgj1list[i], phi1 = phibkgj1list[i],m1=massbkgj1list[i]),\n",
    "                    weight = background_weight_list[i])\n",
    "\n",
    "\n",
    "\n",
    "    #Set up histogram\n",
    "    plt.figure(figsize=(10, 6))\n",
    "\n",
    "    # Background histogram\n",
    "    plt.stairs(\n",
    "        invariant_hist_background.values(),\n",
    "        invariant_hist_background.axes[0].edges,\n",
    "        color='blue',\n",
    "        label='Background',\n",
    "        linewidth=2\n",
    "    )\n",
    "\n",
    "    # Signal histogram\n",
    "    plt.stairs(\n",
    "        invariant_hist_signal.values(),\n",
    "        invariant_hist_signal.axes[0].edges,\n",
    "        color='red',\n",
    "        label='Signal',\n",
    "        linewidth=3\n",
    "    )\n",
    "\n",
    "    # Add labels and legend\n",
    "    plt.xlabel('Invariant Mass j0 j1')\n",
    "    plt.ylabel('Counts')\n",
    "    plt.yscale('log')\n",
    "    plt.title('Invariant Mass Distribution')\n",
    "    plt.legend()\n",
    "    plt.grid(True)\n",
    "\n",
    "\n",
    "    # Show the plot\n",
    "    plt.show()\n",
    "\n",
    "    #signal and background events to for the 'cut chart'\n",
    "    numSigEvents = invariant_hist_signal.sum()\n",
    "    numBkgEvents = invariant_hist_background.sum()\n",
    "\n",
    "    return numSigEvents, numBkgEvents"
   ]
  },
  {
   "cell_type": "code",
   "execution_count": null,
   "metadata": {},
   "outputs": [],
   "source": [
    "PlotInvariantMass(None)"
   ]
  },
  {
   "cell_type": "markdown",
   "metadata": {},
   "source": []
  },
  {
   "cell_type": "markdown",
   "metadata": {},
   "source": [
    "<h1> Now we start findsing Significance, making Cuts <h1>"
   ]
  },
  {
   "cell_type": "code",
   "execution_count": null,
   "metadata": {},
   "outputs": [],
   "source": [
    "#This will store the cuts that we make to our data, sequentially\n",
    "maskList = []"
   ]
  },
  {
   "cell_type": "code",
   "execution_count": null,
   "metadata": {},
   "outputs": [],
   "source": [
    "def GetSignificance(sigEvents, bkgEvents):\n",
    "\n",
    "    "
   ]
  },
  {
   "cell_type": "code",
   "execution_count": null,
   "metadata": {},
   "outputs": [],
   "source": [
    "def GetSignificances(sighist,bkghist):\n",
    "    signal_counts = sighist.values()\n",
    "    bkg_counts = bkghist.values()\n",
    "\n",
    "    significance = []\n",
    "    for n_s, n_b in zip(signal_counts, bkg_counts):\n",
    "        if n_b + n_s > 0:\n",
    "            S = calculateSignificance(numSig=n_s, numBkg=n_b)\n",
    "            significance.append(S)\n",
    "        else:\n",
    "            significance.append(0)  # If both are zero, significance is zero.\n",
    "\n",
    "    return np.array(significance)\n",
    "\n"
   ]
  },
  {
   "cell_type": "markdown",
   "metadata": {},
   "source": [
    "First we will be using $\\eta$($j_0$) *  $\\eta$($j_1$) to make this cut. "
   ]
  },
  {
   "cell_type": "code",
   "execution_count": null,
   "metadata": {},
   "outputs": [],
   "source": [
    "etaeta_sig_hist, etaeta_bkg_hist = PlotEtaEta(None)"
   ]
  },
  {
   "cell_type": "code",
   "execution_count": null,
   "metadata": {},
   "outputs": [],
   "source": [
    "#Let's add the inital state to our cut chart, before making any cuts\n",
    "\n",
    "currSigEvents = etaeta_sig_hist.sum()\n",
    "signal_numevents.append(currSigEvents)\n",
    "currBkgEvents = etaeta_bkg_hist.sum()\n",
    "background_numevents.append(currBkgEvents)\n",
    "\n",
    "currSignificance = GetSignificance(currSigEvents,currBkgEvents)\n",
    "significances.append(currSignificance)\n",
    "cut_strings.append(\"Initial State\")\n",
    "\n",
    "\n"
   ]
  },
  {
   "cell_type": "markdown",
   "metadata": {},
   "source": [
    "<h4> Significance Plot </h4>"
   ]
  },
  {
   "cell_type": "code",
   "execution_count": null,
   "metadata": {},
   "outputs": [],
   "source": [
    "significance = GetSignificances(etaeta_sig_hist,etaeta_bkg_hist)\n",
    "\n",
    "# Get bin edges from the histogram\n",
    "bin_edges = etaeta_sig_hist.axes[0].edges\n",
    "\n",
    "# Plot significance\n",
    "plt.figure(figsize=(10, 6))\n",
    "plt.step(bin_edges[:-1], significance, where='mid', label='Significance', color='purple', linewidth=2)\n",
    "\n",
    "# Add labels and title\n",
    "plt.xlabel('Eta(j0) * Eta(j1)')\n",
    "plt.xlim(-17, 17)  #from visual inspection\n",
    "plt.ylabel('Significance')\n",
    "plt.yscale('log')\n",
    "plt.title('Significance Plot')\n",
    "plt.grid(True)\n",
    "plt.legend()\n",
    "\n",
    "# Show the plot\n",
    "plt.show()\n",
    "\n",
    "\n",
    "\n",
    "#Top 5 points\n",
    "# Find the indices of the top 5 significance values\n",
    "top_indices = np.argsort(significance)[-5:]  # Get indices of the 5 largest values\n",
    "\n",
    "# Reverse to get them in descending order\n",
    "top_indices = top_indices[::-1]\n",
    "\n",
    "# Retrieve the top 5 significance values and their corresponding bin edges\n",
    "top_significance_values = significance[top_indices]\n",
    "top_bin_edges = bin_edges[top_indices]\n",
    "\n",
    "# Print the top 5 significance values and their corresponding bins\n",
    "print(\"Top 5 Significance Values and Their Corresponding Bins:\")\n",
    "for i, idx in enumerate(top_indices):\n",
    "    print(f\"Rank {i + 1}: Significance = {top_significance_values[i]:.3f}, Bin = {top_bin_edges[i]:.3f}\")\n"
   ]
  },
  {
   "cell_type": "markdown",
   "metadata": {},
   "source": [
    "We chose cut to be eta(j0)*eta(j1) >= 0 "
   ]
  },
  {
   "cell_type": "code",
   "execution_count": null,
   "metadata": {},
   "outputs": [],
   "source": [
    "def mask_etaeta_condition(df):\n",
    "    # Extract Eta for j0 and j1\n",
    "    eta_j0 = df[\"Jet.Eta\"].apply(lambda x: x[0] if len(x) > 0 else None)\n",
    "    eta_j1 = df[\"Jet.Eta\"].apply(lambda x: x[1] if len(x) > 1 else None)\n",
    "\n",
    "    # Create mask where Eta(j0) * Eta(j1) >= 0\n",
    "    return (eta_j0 * eta_j1) >= 0\n",
    "\n",
    "maskList.append(mask_etaeta_condition)"
   ]
  },
  {
   "cell_type": "markdown",
   "metadata": {},
   "source": [
    "Now we will plot invariable mass after making this cut"
   ]
  },
  {
   "cell_type": "code",
   "execution_count": null,
   "metadata": {},
   "outputs": [],
   "source": [
    "currSigEvents, currBkgEvents = PlotInvariantMass(maskList)"
   ]
  },
  {
   "cell_type": "code",
   "execution_count": null,
   "metadata": {},
   "outputs": [],
   "source": [
    "# add cut to cut chart\n",
    "\n"
   ]
  },
  {
   "cell_type": "markdown",
   "metadata": {},
   "source": [
    "<b> abs($\\Delta$($j_0$,$j_1$)) </b>"
   ]
  },
  {
   "cell_type": "markdown",
   "metadata": {},
   "source": [
    "Now we will use Delta(J0,J1) to make the next cut. Let's plot it with our current cuts"
   ]
  },
  {
   "cell_type": "code",
   "execution_count": null,
   "metadata": {},
   "outputs": [],
   "source": [
    "deltaeta_sig_hist , deltaeta_bkg_hist = PlotDeltaJets(maskList)"
   ]
  },
  {
   "cell_type": "code",
   "execution_count": null,
   "metadata": {},
   "outputs": [],
   "source": [
    "significance = GetSignificances(deltaeta_sig_hist,deltaeta_bkg_hist)\n",
    "\n",
    "# Get bin edges from the histogram\n",
    "bin_edges = deltaeta_sig_hist.axes[0].edges\n",
    "\n",
    "# Plot significance\n",
    "plt.figure(figsize=(10, 6))\n",
    "plt.step(bin_edges[:-1], significance, where='mid', label='Significance', color='purple', linewidth=2)\n",
    "\n",
    "# Add labels and title\n",
    "plt.xlabel('Delta(Eta(J0,J1))')\n",
    "plt.xlim(0, 5)  #from visual inspection\n",
    "plt.ylabel('Significance')\n",
    "plt.yscale('log')\n",
    "plt.title('Significance Plot')\n",
    "plt.grid(True)\n",
    "plt.legend()\n",
    "\n",
    "# Show the plot\n",
    "plt.show()\n",
    "\n",
    "\n",
    "\n",
    "#Top 5 points\n",
    "# Find the indices of the top 5 significance values\n",
    "top_indices = np.argsort(significance)[-5:]  # Get indices of the 5 largest values\n",
    "\n",
    "# Reverse to get them in descending order\n",
    "top_indices = top_indices[::-1]\n",
    "\n",
    "# Retrieve the top 5 significance values and their corresponding bin edges\n",
    "top_significance_values = significance[top_indices]\n",
    "top_bin_edges = bin_edges[top_indices]\n",
    "\n",
    "# Print the top 5 significance values and their corresponding bins\n",
    "print(\"Top 5 Significance Values and Their Corresponding Bins:\")\n",
    "for i, idx in enumerate(top_indices):\n",
    "    print(f\"Rank {i + 1}: Significance = {top_significance_values[i]:.3f}, Bin = {top_bin_edges[i]:.3f}\")\n"
   ]
  },
  {
   "cell_type": "markdown",
   "metadata": {},
   "source": [
    "Notice that this isn't of use to us, not cut to be made."
   ]
  },
  {
   "cell_type": "markdown",
   "metadata": {},
   "source": [
    "<b>Pt($j_0$) </b>"
   ]
  },
  {
   "cell_type": "markdown",
   "metadata": {},
   "source": [
    "Now we will plot just Pt(j0) as we will use this for our next cut"
   ]
  },
  {
   "cell_type": "code",
   "execution_count": null,
   "metadata": {},
   "outputs": [],
   "source": [
    "def PlotSingleJet(binname, dataname, masklist, j1):  # if j1 is True, plot J1; otherwise, plot J0\n",
    "    # Create histograms for J0\n",
    "    j0_hist_background = Hist(\n",
    "        axis.Regular(binning[binname][\"bins\"], *binning[binname][\"range\"], name=\"thedata\", label=dataname+\"J0\")\n",
    "    )\n",
    "    j0_hist_signal = Hist(\n",
    "        axis.Regular(binning[binname][\"bins\"], *binning[binname][\"range\"], name=\"thedata\", label=dataname+\"J0\")\n",
    "    )\n",
    "\n",
    "    # Create histograms for J1\n",
    "    j1_hist_background = Hist(\n",
    "        axis.Regular(binning[binname][\"bins\"], *binning[binname][\"range\"], name=\"thedata\", label=dataname+\"J1\")\n",
    "    )\n",
    "    j1_hist_signal = Hist(\n",
    "        axis.Regular(binning[binname][\"bins\"], *binning[binname][\"range\"], name=\"thedata\", label=dataname+\"J1\")\n",
    "    )\n",
    "\n",
    "    # Retrieve data\n",
    "    j0siglist, j1siglist, bkgj0list, bkgj1list = getJetsData(dataname, masklist)\n",
    "\n",
    "    # Fill histograms\n",
    "    for i in range(len(j0siglist)):\n",
    "        j0_hist_signal.fill(thedata=j0siglist[i], weight=signal_weight_list[i])\n",
    "        j1_hist_signal.fill(thedata=j1siglist[i], weight=signal_weight_list[i])\n",
    "\n",
    "    for i in range(len(background_weight_list)):\n",
    "        j0_hist_background.fill(thedata=bkgj0list[i], weight=background_weight_list[i])\n",
    "        j1_hist_background.fill(thedata=bkgj1list[i], weight=background_weight_list[i])\n",
    "\n",
    "    # Create a figure and a set of subplots based on the parameter\n",
    "    if j1:\n",
    "        # Plot J1 only\n",
    "        fig, axs = plt.subplots(1, 1, figsize=(8, 6))\n",
    "\n",
    "        axs.stairs(\n",
    "            j1_hist_background.values(),\n",
    "            j1_hist_background.axes[0].edges,\n",
    "            color='blue',\n",
    "            label='Background',\n",
    "            linewidth=2\n",
    "        )\n",
    "        axs.stairs(\n",
    "            j1_hist_signal.values(),\n",
    "            j1_hist_signal.axes[0].edges,\n",
    "            color='red',\n",
    "            label='Signal',\n",
    "            linewidth=3\n",
    "        )\n",
    "        axs.set_xlabel(dataname+'(j1)')\n",
    "        axs.set_ylabel('Counts')\n",
    "        axs.set_yscale('log')\n",
    "        axs.set_title(dataname+'(j1) Distributions')\n",
    "        axs.legend()\n",
    "        axs.grid(True)\n",
    "    else:\n",
    "        # Plot J0 only\n",
    "        fig, axs = plt.subplots(1, 1, figsize=(8, 6))\n",
    "\n",
    "        axs.stairs(\n",
    "            j0_hist_background.values(),\n",
    "            j0_hist_background.axes[0].edges,\n",
    "            color='blue',\n",
    "            label='Background',\n",
    "            linewidth=2\n",
    "        )\n",
    "        axs.stairs(\n",
    "            j0_hist_signal.values(),\n",
    "            j0_hist_signal.axes[0].edges,\n",
    "            color='red',\n",
    "            label='Signal',\n",
    "            linewidth=3\n",
    "        )\n",
    "        axs.set_xlabel(dataname+'(j0)')\n",
    "        axs.set_ylabel('Counts')\n",
    "        axs.set_yscale('log')\n",
    "        axs.set_title(dataname+'(j0) Distributions')\n",
    "        axs.legend()\n",
    "        axs.grid(True)\n",
    "\n",
    "    # Adjust layout\n",
    "    plt.tight_layout()\n",
    "\n",
    "    # Show the plot\n",
    "    plt.show()\n",
    "\n",
    "    if j1:\n",
    "        return j1_hist_signal, j1_hist_background\n",
    "    else:\n",
    "        return j0_hist_signal, j0_hist_background\n"
   ]
  },
  {
   "cell_type": "code",
   "execution_count": null,
   "metadata": {},
   "outputs": [],
   "source": [
    "ptj0_sig_hist, ptj_bkg_hist = PlotSingleJet(\"PT\",\"PT\",maskList,False)"
   ]
  },
  {
   "cell_type": "markdown",
   "metadata": {},
   "source": [
    "Now let's plot significannce"
   ]
  },
  {
   "cell_type": "code",
   "execution_count": null,
   "metadata": {},
   "outputs": [],
   "source": [
    "significance = GetSignificances(ptj0_sig_hist, ptj_bkg_hist)\n",
    "\n",
    "# Get bin edges from the histogram\n",
    "bin_edges = ptj0_sig_hist.axes[0].edges\n",
    "\n",
    "# Plot significance\n",
    "plt.figure(figsize=(10, 6))\n",
    "plt.step(bin_edges[:-1], significance, where='mid', label='Significance', color='purple', linewidth=2)\n",
    "\n",
    "# Add labels and title\n",
    "plt.xlabel('PT(j0)')\n",
    "#plt.xlim(0, 5)  #from visual inspection\n",
    "plt.ylabel('Significance')\n",
    "plt.yscale('log')\n",
    "plt.title('Significance Plot')\n",
    "plt.grid(True)\n",
    "plt.legend()\n",
    "\n",
    "# Show the plot\n",
    "plt.show()\n",
    "\n",
    "\n",
    "\n",
    "#Top 5 points\n",
    "# Find the indices of the top 5 significance values\n",
    "top_indices = np.argsort(significance)[-5:]  # Get indices of the 5 largest values\n",
    "\n",
    "# Reverse to get them in descending order\n",
    "top_indices = top_indices[::-1]\n",
    "\n",
    "# Retrieve the top 5 significance values and their corresponding bin edges\n",
    "top_significance_values = significance[top_indices]\n",
    "top_bin_edges = bin_edges[top_indices]\n",
    "\n",
    "# Print the top 5 significance values and their corresponding bins\n",
    "print(\"Top 5 Significance Values and Their Corresponding Bins:\")\n",
    "for i, idx in enumerate(top_indices):\n",
    "    print(f\"Rank {i + 1}: Significance = {top_significance_values[i]:.3f}, Bin = {top_bin_edges[i]:.3f}\")"
   ]
  },
  {
   "cell_type": "markdown",
   "metadata": {},
   "source": [
    "We chose our cut to be Pt(j0) > 720"
   ]
  },
  {
   "cell_type": "code",
   "execution_count": null,
   "metadata": {},
   "outputs": [],
   "source": [
    "def mask_pt_j0_condition(df):\n",
    "    # Extract PT for j0\n",
    "    pt_j0 = df[\"Jet.PT\"].apply(lambda x: x[0] if len(x) > 0 else None)\n",
    "\n",
    "    # Create mask where PT(j0) > 510\n",
    "    return pt_j0 > 510\n",
    "\n",
    "# Append the mask function to the mask list\n",
    "maskList.append(mask_pt_j0_condition)\n"
   ]
  },
  {
   "cell_type": "code",
   "execution_count": null,
   "metadata": {},
   "outputs": [],
   "source": [
    "PlotInvariantMass(maskList)"
   ]
  },
  {
   "cell_type": "markdown",
   "metadata": {},
   "source": [
    "<b>Pt($j_1$)</b>"
   ]
  },
  {
   "cell_type": "code",
   "execution_count": null,
   "metadata": {},
   "outputs": [],
   "source": []
  },
  {
   "cell_type": "markdown",
   "metadata": {},
   "source": [
    "<b> $M_{ET}$, <b>"
   ]
  },
  {
   "cell_type": "markdown",
   "metadata": {},
   "source": []
  },
  {
   "cell_type": "markdown",
   "metadata": {},
   "source": [
    "<h1>Step 5: Compile full Cut Chart </h1>"
   ]
  },
  {
   "cell_type": "code",
   "execution_count": null,
   "metadata": {},
   "outputs": [],
   "source": [
    "\n",
    "def print_cut_summary():\n",
    "    # Print the header\n",
    "    print(f\"{'Cut #':<6} | {'Cut String':<30} | {'Signal Events':<20} | {'Background Events':<20} | {'Significance':<15}\")\n",
    "    print(\"-\" * 100)\n",
    "    \n",
    "    # Iterate over the cuts and print each row\n",
    "    for i in range(num_cuts):\n",
    "        print(f\"{i+1:<6} | {cuts_strings[i]:<30} | {Signal_numevents[i]:<20} | {Background_numevents[i]:<20} | {Significance[i]:<15}\")\n",
    "\n",
    "\n",
    "print_cut_summary()\n"
   ]
  },
  {
   "cell_type": "markdown",
   "metadata": {},
   "source": [
    "<h2> CODE TESTING </h2>"
   ]
  },
  {
   "cell_type": "code",
   "execution_count": null,
   "metadata": {},
   "outputs": [],
   "source": [
    "def mask_pt_j0_greater_than_30(df):\n",
    "    # Extract PT for j0\n",
    "    pt_j0 = df[\"Jet.PT\"].apply(lambda x: x[0] if len(x) > 0 else None)\n",
    "    \n",
    "    # Create mask where PT(j0) > 30\n",
    "    return pt_j0 > 550\n",
    "\n",
    "\n",
    "def mask_eta_condition(df):\n",
    "    # Extract Eta for j0 and j1\n",
    "    eta_j0 = df[\"Jet.Eta\"].apply(lambda x: x[0] if len(x) > 0 else None)\n",
    "    eta_j1 = df[\"Jet.Eta\"].apply(lambda x: x[1] if len(x) > 1 else None)\n",
    "\n",
    "    # Create mask where Eta(j0) * Eta(j1) >= 0\n",
    "    return (eta_j0 * eta_j1) >= 0"
   ]
  },
  {
   "cell_type": "code",
   "execution_count": null,
   "metadata": {},
   "outputs": [],
   "source": []
  },
  {
   "cell_type": "code",
   "execution_count": null,
   "metadata": {},
   "outputs": [],
   "source": []
  }
 ],
 "metadata": {
  "kernelspec": {
   "display_name": "Python 3 (ipykernel)",
   "language": "python",
   "name": "python3"
  },
  "language_info": {
   "codemirror_mode": {
    "name": "ipython",
    "version": 3
   },
   "file_extension": ".py",
   "mimetype": "text/x-python",
   "name": "python",
   "nbconvert_exporter": "python",
   "pygments_lexer": "ipython3",
   "version": "3.10.12"
  }
 },
 "nbformat": 4,
 "nbformat_minor": 4
}
