{
 "cells": [
  {
   "cell_type": "markdown",
   "metadata": {},
   "source": [
    "<h1> Step 1: Load the data </h1>\n"
   ]
  },
  {
   "cell_type": "code",
   "execution_count": 14,
   "metadata": {},
   "outputs": [],
   "source": [
    "import pandas as pd\n",
    "import matplotlib.pyplot as plt\n",
    "from coffea.nanoevents import NanoEventsFactory, DelphesSchema\n",
    "import numpy as np\n",
    "import uproot\n",
    "import ROOT\n",
    "import awkward as ak\n",
    "import funcs\n",
    "from hist import Hist, axis\n",
    "\n",
    "\n",
    "tree_name= \"Delphes\"  #all of them are named delphes\n",
    "\n",
    "#Signal\n",
    "signal_folder = \"data/signal/\"\n",
    "signal_filename =  \"VBF_DM_My0_1000_MXD_10.root\"\n",
    "signal_file = uproot.open(signal_folder +signal_filename)\n",
    "\n",
    "\n",
    "#Background\n",
    "background_folder = \"data/bkg/\"\n",
    "background_filename =  \"run_01.root\"\n",
    "background_file = uproot.open(background_folder + background_filename)\n",
    "\n",
    "\n",
    "\n",
    "#----\n",
    "#will store data to be used in final \"cut chart\"\n",
    "num_cuts = 5\n",
    "SM_events = [1000,700,200]\n",
    "NP_events = [500,400,300]\n",
    "Significance = [1,2.4,5]\n",
    "    #all this is temp for now\n",
    "\n",
    "\n"
   ]
  },
  {
   "cell_type": "markdown",
   "metadata": {},
   "source": [
    "<h1> Step 2: Extract Data </h1>\n"
   ]
  },
  {
   "cell_type": "code",
   "execution_count": 34,
   "metadata": {},
   "outputs": [],
   "source": [
    "#Signal Data\n",
    "signal_tree = signal_file[tree_name]\n",
    "signal_weights = signal_tree[\"Event/Event.Weight\"].array(library=\"np\")\n",
    "normalized_signal_weights = signal_weights / np.mean(signal_weights)\n",
    "\n",
    "signal_met_phi = signal_tree[\"MissingET.Phi\"].array(library=\"np\")\n",
    "\n",
    "\n",
    "#Background Data\n",
    "background_tree = background_file[tree_name]\n",
    "background_weights = background_tree[\"Event/Event.Weight\"].array(library=\"np\")\n",
    "normalized_background_weights = background_weights / np.mean(background_weights)\n",
    "\n",
    "background_met_phi = background_tree[\"MissingET.Phi\"].array(library=\"np\")\n",
    "\n",
    "\n",
    "\n",
    "\n",
    "\n",
    "\n"
   ]
  },
  {
   "cell_type": "markdown",
   "metadata": {},
   "source": [
    "<h1> Step 3: Plot Everything </h1>"
   ]
  },
  {
   "cell_type": "code",
   "execution_count": 35,
   "metadata": {},
   "outputs": [
    {
     "data": {
      "image/png": "[encoded data removed]",
      "text/plain": [
       "<Figure size 1000x600 with 1 Axes>"
      ]
     },
     "metadata": {},
     "output_type": "display_data"
    }
   ],
   "source": [
    "binning = {\n",
    "    \"PT\": {\"range\": (20, 300), \"bins\": 14},  # (300 - 20) / 20 = 14 bins\n",
    "    \"Eta*Eta\": {\"range\": (-25, 25), \"bins\": 500},  # (25 - (-25)) / 0.1 = 500 bins\n",
    "    \"Delta_Eta\": {\"range\": (0, 10), \"bins\": 100},  # (10 - 0) / 0.1 = 100 bins\n",
    "    \"Transverse\": {\"range\": (500, 2000), \"bins\": 75},  # (2000 - 500) / 20 = 75 bins\n",
    "    \"Eta\": {\"range\": (-5, 5), \"bins\": 100},  # (5 - (-5)) / 0.1 = 100 bins\n",
    "    \"Phi\": {\"range\": (0, 2 * np.pi), \"bins\": 63}  # (2 * pi - 0) / 0.1 = 63 bins\n",
    "}\n",
    "\n",
    "# Create histograms\n",
    "met_phi_hist_background = Hist(\n",
    "    axis.Regular(binning[\"Phi\"][\"bins\"], *binning[\"Phi\"][\"range\"], name=\"MET_Phi\", label=\"MET Phi (rad)\")\n",
    ")\n",
    "met_phi_hist_signal = Hist(\n",
    "    axis.Regular(binning[\"Phi\"][\"bins\"], *binning[\"Phi\"][\"range\"], name=\"MET_Phi\", label=\"MET Phi (rad)\")\n",
    ")\n",
    "\n",
    "# Fill histograms with data\n",
    "met_phi_hist_background.fill(MET_Phi=background_met_phi,weight = normalized_background_weights)\n",
    "met_phi_hist_signal.fill(MET_Phi=signal_met_phi,weight = normalized_signal_weights)\n",
    "\n",
    "\n",
    "\n",
    "# Plotting the histograms\n",
    "plt.figure(figsize=(10, 6))\n",
    "\n",
    "# Background histogram\n",
    "plt.stairs(\n",
    "    met_phi_hist_background.values(),\n",
    "    met_phi_hist_background.axes[0].edges,\n",
    "    color='blue',\n",
    "    label='Background',\n",
    "    linewidth=2\n",
    ")\n",
    "\n",
    "# Signal histogram\n",
    "plt.stairs(\n",
    "    met_phi_hist_signal.values(),\n",
    "    met_phi_hist_signal.axes[0].edges,\n",
    "    color='red',\n",
    "    label='Signal',\n",
    "    linewidth=2\n",
    ")\n",
    "\n",
    "# Add labels and legend\n",
    "plt.xlabel('MET Phi (rad)')\n",
    "plt.ylabel('Counts')\n",
    "plt.title('MET Phi Distribution')\n",
    "plt.legend()\n",
    "plt.grid(True)\n",
    "\n",
    "# Show the plot\n",
    "plt.show()"
   ]
  },
  {
   "cell_type": "markdown",
   "metadata": {},
   "source": [
    "<h1> Step 3: Iteratively Plot, then Cut <h1>"
   ]
  },
  {
   "cell_type": "code",
   "execution_count": 21,
   "metadata": {},
   "outputs": [],
   "source": [
    "#Testing stuff\n",
    "\n",
    "#this is how I might make a cut\n",
    "trial = signalevents['Jet'][signalevents.Jet.PT > 30].compute()['PT']\n",
    "trial\n"
   ]
  },
  {
   "cell_type": "markdown",
   "metadata": {},
   "source": [
    "<b> $\\eta$($j_0$) *  $\\eta$($j_1$) </b>"
   ]
  },
  {
   "cell_type": "code",
   "execution_count": null,
   "metadata": {},
   "outputs": [],
   "source": []
  },
  {
   "cell_type": "markdown",
   "metadata": {},
   "source": [
    "<b> abs($\\Delta$($j_0$,$j_1$)) </b>"
   ]
  },
  {
   "cell_type": "code",
   "execution_count": null,
   "metadata": {},
   "outputs": [],
   "source": []
  },
  {
   "cell_type": "markdown",
   "metadata": {},
   "source": [
    "<b>Pt($j_0$) </b>"
   ]
  },
  {
   "cell_type": "code",
   "execution_count": null,
   "metadata": {},
   "outputs": [],
   "source": []
  },
  {
   "cell_type": "markdown",
   "metadata": {},
   "source": [
    "<b>Pt($j_1$)</b>"
   ]
  },
  {
   "cell_type": "code",
   "execution_count": null,
   "metadata": {},
   "outputs": [],
   "source": []
  },
  {
   "cell_type": "markdown",
   "metadata": {},
   "source": [
    "<b> $M_{ET}$, <b>"
   ]
  },
  {
   "cell_type": "markdown",
   "metadata": {},
   "source": []
  },
  {
   "cell_type": "markdown",
   "metadata": {},
   "source": [
    "<h1>Step 5: Compile full Cut Chart </h1>"
   ]
  },
  {
   "cell_type": "code",
   "execution_count": null,
   "metadata": {},
   "outputs": [],
   "source": [
    "\n",
    "column_width = 12  \n",
    "\n",
    "# Create the grid header\n",
    "header_row = f\"{'Cut #':^{column_width}} | {'SM Events':^{column_width}} | {'NP Events':^{column_width}} | {'Significance':^{column_width}}\"\n",
    "print(header_row)\n",
    "\n",
    "# Print a separator line\n",
    "print(\"-\" * (len(header_row) + 1))\n",
    "\n",
    "#Initial Conditions\n",
    "init_data = f\"{'    Init':{column_width}} | {SM_events[0]:^{column_width}} | {NP_events[0]:^{column_width}} | {Significance[0]:^{column_width}.2f}\"  # \n",
    "print(init_data)\n",
    "\n",
    "# Iterate through data and format each row\n",
    "for i in range(1, num_cuts):  # Use range(1, num_cuts+1) for 1 to num_cuts (inclusive)\n",
    "    row_data = f\"{i:{column_width}} | {SM_events[i]:^{column_width}} | {NP_events[i]:^{column_width}} | {Significance[i]:^{column_width}.2f}\" \n",
    "    print(row_data)\n",
    "\n",
    "\n"
   ]
  },
  {
   "cell_type": "code",
   "execution_count": null,
   "metadata": {},
   "outputs": [],
   "source": []
  }
 ],
 "metadata": {
  "kernelspec": {
   "display_name": "base",
   "language": "python",
   "name": "python3"
  },
  "language_info": {
   "codemirror_mode": {
    "name": "ipython",
    "version": 3
   },
   "file_extension": ".py",
   "mimetype": "text/x-python",
   "name": "python",
   "nbconvert_exporter": "python",
   "pygments_lexer": "ipython3",
   "version": "3.11.9"
  }
 },
 "nbformat": 4,
 "nbformat_minor": 2
}
