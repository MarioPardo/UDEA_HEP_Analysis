{
 "cells": [
  {
   "cell_type": "markdown",
   "metadata": {},
   "source": [
    "<h1> RootFile Filtering </h1>\n",
    "\n",
    "The point of this file/program, is to be able to intake a root file, and then trim it so that we only keep the branches we need\n",
    "\n",
    "In this case we only keep:\n",
    "* Events \n",
    "* Weight\n",
    "* MET\n",
    "* Jet\n",
    "\n"
   ]
  },
  {
   "cell_type": "markdown",
   "metadata": {},
   "source": [
    "<h3> Step1 : Get the Info from \"old\" Tree </h3>"
   ]
  },
  {
   "cell_type": "code",
   "execution_count": 6,
   "metadata": {},
   "outputs": [
    {
     "data": {
      "text/plain": [
       "0                           [24.112531661987305]\n",
       "1                                             []\n",
       "2                                             []\n",
       "3                             [23.1243896484375]\n",
       "4                           [24.371654510498047]\n",
       "                          ...                   \n",
       "49995                                         []\n",
       "49996    [39.28212356567383, 29.617807388305664]\n",
       "49997                         [22.8170108795166]\n",
       "49998     [35.32003402709961, 34.39146423339844]\n",
       "49999                         [48.4395751953125]\n",
       "Name: Jet.PT, Length: 50000, dtype: awkward"
      ]
     },
     "execution_count": 6,
     "metadata": {},
     "output_type": "execute_result"
    }
   ],
   "source": [
    "import uproot\n",
    "import pandas as pd\n",
    "import awkward as ak\n",
    "\n",
    "\n",
    "input_file = \"data/temp_1/run_01.root\"\n",
    "tree_name = \"Delphes\"\n",
    "\n",
    "file = uproot.open(input_file)\n",
    "tree = file[tree_name]\n",
    "\n",
    "#What we want to keep\n",
    "branches_wanted = [\n",
    "    \"Weight.Weight\",\n",
    "    \"MissingET.MET\",\n",
    "    \"MissingET.Phi\",\n",
    "    \"Jet.PT\",\n",
    "    \"Jet.Phi\",\n",
    "    \"Jet.Eta\"\n",
    "]\n",
    "df = tree.arrays(branches_wanted,library=\"pd\")\n",
    "\n",
    "#quick print to verify\n",
    "df['Jet.PT']\n"
   ]
  },
  {
   "cell_type": "markdown",
   "metadata": {},
   "source": [
    "<h3> Step 2: Create and Store the new Tree </h3>"
   ]
  },
  {
   "cell_type": "code",
   "execution_count": 10,
   "metadata": {},
   "outputs": [
    {
     "name": "stdout",
     "output_type": "stream",
     "text": [
      "New ROOT file created: data/filtered/filtered_1.root\n"
     ]
    }
   ],
   "source": [
    "#Convert to Awkward Arrays\n",
    "arrays = {branch: ak.Array(df[branch]) for branch in df.columns}\n",
    "\n",
    "#Create a new ROOT file and write the new tree\n",
    "output_file = \"data/filtered/filtered_1.root\"\n",
    "with uproot.recreate(output_file) as new_file:\n",
    "    new_file[\"NewTree\"] = arrays\n",
    "\n",
    "print(f\"New ROOT file created: {output_file}\")"
   ]
  }
 ],
 "metadata": {
  "kernelspec": {
   "display_name": "base",
   "language": "python",
   "name": "python3"
  },
  "language_info": {
   "codemirror_mode": {
    "name": "ipython",
    "version": 3
   },
   "file_extension": ".py",
   "mimetype": "text/x-python",
   "name": "python",
   "nbconvert_exporter": "python",
   "pygments_lexer": "ipython3",
   "version": "3.11.9"
  }
 },
 "nbformat": 4,
 "nbformat_minor": 2
}
