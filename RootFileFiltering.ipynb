{
 "cells": [
  {
   "cell_type": "markdown",
   "metadata": {},
   "source": [
    "<h1> RootFile Filtering </h1>\n",
    "\n",
    "The point of this file/program, is to be able to intake a root file, and then trim it so that we only keep the branches we need\n",
    "\n",
    "In this case we only keep:\n",
    "* Events \n",
    "* Weight\n",
    "* MET\n",
    "* Jet\n",
    "\n"
   ]
  },
  {
   "cell_type": "markdown",
   "metadata": {},
   "source": [
    "<h3> Step1 : Get the Info from \"old\" Tree </h3>"
   ]
  },
  {
   "cell_type": "code",
   "execution_count": 9,
   "metadata": {},
   "outputs": [
    {
     "name": "stdout",
     "output_type": "stream",
     "text": [
      "                    Weight.Weight         MissingET.MET  \\\n",
      "0  [7502019.0 150.04037475585938]   [4.926828861236572]   \n",
      "1  [7502019.0 150.04037475585938]  [16.107275009155273]   \n",
      "2  [7502019.0 150.04037475585938]   [3.229266405105591]   \n",
      "3  [7502019.0 150.04037475585938]  [10.670708656311035]   \n",
      "4  [7502019.0 150.04037475585938]  [12.694730758666992]   \n",
      "\n",
      "           MissingET.Phi                Jet.PT                Jet.Phi  \\\n",
      "0  [0.19047003984451294]  [24.112531661987305]  [-2.7468557357788086]   \n",
      "1   [0.7320101857185364]                    []                     []   \n",
      "2   [1.1124744415283203]                    []                     []   \n",
      "3   [-2.879427909851074]    [23.1243896484375]  [-0.2382383942604065]   \n",
      "4    [0.641176700592041]  [24.371654510498047]   [-2.310073137283325]   \n",
      "\n",
      "                 Jet.Eta  \n",
      "0  [-2.5108184814453125]  \n",
      "1                     []  \n",
      "2                     []  \n",
      "3    [2.274991035461426]  \n",
      "4  [-1.4663317203521729]  \n"
     ]
    }
   ],
   "source": [
    "import uproot\n",
    "import pandas as pd\n",
    "import awkward as ak\n",
    "\n",
    "\n",
    "input_file = \"data/temp_1/run_01.root\"\n",
    "tree_name = \"Delphes\"\n",
    "\n",
    "file = uproot.open(input_file)\n",
    "tree = file[tree_name]\n",
    "\n",
    "#What we want to keep\n",
    "branches_wanted = [\n",
    "    \"Weight.Weight\",\n",
    "    \"MissingET.MET\",\n",
    "    \"MissingET.Phi\",\n",
    "    \"Jet.PT\",\n",
    "    \"Jet.Phi\",\n",
    "    \"Jet.Eta\"\n",
    "]\n",
    "df = tree.arrays(branches_wanted,library=\"pd\")\n",
    "\n",
    "#quick print to verify\n",
    "print(df.head())\n"
   ]
  },
  {
   "cell_type": "markdown",
   "metadata": {},
   "source": [
    "<h3> Step 2: Create and Store the new Tree </h3>"
   ]
  },
  {
   "cell_type": "code",
   "execution_count": 10,
   "metadata": {},
   "outputs": [
    {
     "name": "stdout",
     "output_type": "stream",
     "text": [
      "New ROOT file created: data/filtered/filtered_1.root\n"
     ]
    }
   ],
   "source": [
    "#Convert to Awkward Arrays\n",
    "arrays = {branch: ak.Array(df[branch]) for branch in df.columns}\n",
    "\n",
    "#Create a new ROOT file and write the new tree\n",
    "output_file = \"data/filtered/filtered_1.root\"\n",
    "with uproot.recreate(output_file) as new_file:\n",
    "    new_file[\"NewTree\"] = arrays\n",
    "\n",
    "print(f\"New ROOT file created: {output_file}\")"
   ]
  }
 ],
 "metadata": {
  "kernelspec": {
   "display_name": "base",
   "language": "python",
   "name": "python3"
  },
  "language_info": {
   "codemirror_mode": {
    "name": "ipython",
    "version": 3
   },
   "file_extension": ".py",
   "mimetype": "text/x-python",
   "name": "python",
   "nbconvert_exporter": "python",
   "pygments_lexer": "ipython3",
   "version": "3.11.9"
  }
 },
 "nbformat": 4,
 "nbformat_minor": 2
}
