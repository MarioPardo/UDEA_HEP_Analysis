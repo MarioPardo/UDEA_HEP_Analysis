{
 "cells": [
  {
   "cell_type": "markdown",
   "metadata": {},
   "source": [
    "<h1> RootFile Filtering </h1>\n",
    "\n",
    "The point of this file/program, is to be able to intake a root file, and then trim it so that we only keep the branches we need\n",
    "\n",
    "In this case we only keep:\n",
    "* Events \n",
    "* Weight\n",
    "* MET\n",
    "* Jet\n",
    "\n"
   ]
  },
  {
   "cell_type": "code",
   "execution_count": null,
   "metadata": {},
   "outputs": [],
   "source": []
  }
 ],
 "metadata": {
  "language_info": {
   "name": "python"
  }
 },
 "nbformat": 4,
 "nbformat_minor": 2
}
