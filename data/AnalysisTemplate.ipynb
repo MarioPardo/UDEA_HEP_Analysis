{
 "cells": [
  {
   "cell_type": "markdown",
   "metadata": {},
   "source": [
    "<h1> Load the data </h1>\n"
   ]
  },
  {
   "cell_type": "code",
   "execution_count": 65,
   "metadata": {},
   "outputs": [],
   "source": [
    "import matplotlib.pyplot as plt\n",
    "from coffea.nanoevents import NanoEventsFactory, DelphesSchema\n",
    "import numpy as np\n",
    "import uproot\n",
    "from hist import Hist, axis\n",
    "import os\n",
    "\n",
    "#Constants\n",
    "current_dir = os.getcwd()\n",
    "tree_name= \"Delphes\"  #all of them are named delphes\n",
    "luminescence = 300 #fb\n",
    "\n",
    "#Signal\n",
    "signal_folder = \"Signals_DMSimpl_Spin0/\"\n",
    "signal_filename =  \"VBF_DM_My0_1000_MXD_10.root\"\n",
    "signal_crossSection = 0.0018 * 1000 #times 1000 to convert from pb to fb\n",
    "signal_file = uproot.open(signal_folder +signal_filename)\n",
    "\n",
    "#Background\n",
    "background_folders = {\"BKG_Wjets_WToLNu\" : 47744.85 * 1000,\n",
    "                       \"BKG_Zjets_ZToNuNu\": 8818.65 * 1000}  #foldername, significance\n",
    "\n",
    "\n",
    "\n",
    "     #all this is temp for now\n",
    "#will store data to be used in final \"cut chart\"\n",
    "num_cuts = 5\n",
    "SM_events = [1000,700,200]\n",
    "NP_events = [500,400,300]\n",
    "Significance = [1,2.4,5]\n",
    "   \n",
    "\n",
    "\n"
   ]
  },
  {
   "cell_type": "markdown",
   "metadata": {},
   "source": [
    "<h3> Functions </h3>"
   ]
  },
  {
   "cell_type": "code",
   "execution_count": 56,
   "metadata": {},
   "outputs": [],
   "source": [
    "def calculateWeight(num_events, effective_area, lumi):\n",
    "    return effective_area * lumi / num_events"
   ]
  },
  {
   "cell_type": "markdown",
   "metadata": {},
   "source": [
    "<h3> Bins </h3>"
   ]
  },
  {
   "cell_type": "code",
   "execution_count": 48,
   "metadata": {},
   "outputs": [],
   "source": [
    "binning = {\n",
    "    \"PT\": {\"range\": (20, 300), \"bins\": 14},  # (300 - 20) / 20 = 14 bins\n",
    "    \"Eta*Eta\": {\"range\": (-25, 25), \"bins\": 500},  # (25 - (-25)) / 0.1 = 500 bins\n",
    "    \"Delta_Eta\": {\"range\": (0, 10), \"bins\": 100},  # (10 - 0) / 0.1 = 100 bins\n",
    "    \"Transverse\": {\"range\": (500, 2000), \"bins\": 75},  # (2000 - 500) / 20 = 75 bins\n",
    "    \"Eta\": {\"range\": (-5, 5), \"bins\": 100},  # (5 - (-5)) / 0.1 = 100 bins\n",
    "    \"Phi\": {\"range\": (0, 2 * np.pi), \"bins\": 63}  # (2 * pi - 0) / 0.1 = 63 bins\n",
    "}\n",
    "\n",
    "\n",
    "\n"
   ]
  },
  {
   "cell_type": "markdown",
   "metadata": {},
   "source": [
    "<h1> Plot Everything</h1>"
   ]
  },
  {
   "cell_type": "markdown",
   "metadata": {},
   "source": [
    "<h3> MET met <h3>"
   ]
  },
  {
   "cell_type": "code",
   "execution_count": null,
   "metadata": {},
   "outputs": [],
   "source": []
  },
  {
   "cell_type": "markdown",
   "metadata": {},
   "source": [
    "<h3> MET Phi </h3>"
   ]
  },
  {
   "cell_type": "code",
   "execution_count": 66,
   "metadata": {},
   "outputs": [
    {
     "name": "stdout",
     "output_type": "stream",
     "text": [
      "sig weight 0.0108\n",
      "Bkg weight : 368373.1965126148\n",
      "Bkg weight : 354418.14717672096\n"
     ]
    },
    {
     "data": {
      "image/png": "[encoded data removed]",
      "text/plain": [
       "<Figure size 1000x600 with 1 Axes>"
      ]
     },
     "metadata": {},
     "output_type": "display_data"
    }
   ],
   "source": [
    "# Create histograms\n",
    "met_phi_hist_background = Hist(\n",
    "    axis.Regular(binning[\"Phi\"][\"bins\"], *binning[\"Phi\"][\"range\"], name=\"MET_Phi\", label=\"MET Phi (rad)\")\n",
    ")\n",
    "met_phi_hist_signal = Hist(\n",
    "    axis.Regular(binning[\"Phi\"][\"bins\"], *binning[\"Phi\"][\"range\"], name=\"MET_Phi\", label=\"MET Phi (rad)\")\n",
    ")\n",
    "\n",
    "\n",
    "#Signal Data\n",
    "signal_tree = signal_file[tree_name]\n",
    "numSigEvents = len(signal_tree[\"Event/Event.Weight\"].array(library=\"np\"))\n",
    "signal_weight = calculateWeight(num_events=numSigEvents, effective_area= signal_crossSection, lumi = luminescence)\n",
    "print(\"sig weight\", signal_weight)\n",
    "\n",
    "signal_met_phi = signal_tree[\"MissingET.Phi\"].array(library=\"np\")\n",
    "met_phi_hist_signal.fill(MET_Phi=signal_met_phi,weight = signal_weight)\n",
    "\n",
    "\n",
    "#Background\n",
    "for folder_name in os.listdir(current_dir):\n",
    "    folder_path = os.path.join(current_dir, folder_name)\n",
    "        \n",
    "    # Check if the current item is a directory and if its name is in the background_folders dictionary\n",
    "    if os.path.isdir(folder_path) and folder_name in background_folders:\n",
    "        cross_section = background_folders[folder_name]\n",
    "        \n",
    "        for root_file in os.listdir(folder_path):\n",
    "            if root_file.endswith(\".root\"):\n",
    "                file_path = os.path.join(folder_path, root_file)\n",
    "                background_file = uproot.open(file_path)\n",
    "                background_tree = background_file[tree_name]\n",
    "\n",
    "                numBkgEvents= len(background_tree[\"Event/Event.Weight\"].array(library=\"np\"))\n",
    "                calculatedWeight = calculateWeight(num_events=numBkgEvents, effective_area= cross_section, lumi = luminescence)\n",
    "                print(\"Bkg weight :\" , calculatedWeight)\n",
    "                \n",
    "\n",
    "                background_met_phi = background_tree[\"MissingET.Phi\"].array(library=\"np\")\n",
    "                met_phi_hist_background.fill(MET_Phi=background_met_phi,weight =calculatedWeight)\n",
    "                \n",
    "\n",
    "\n",
    "\n",
    "#Set up histogram\n",
    "plt.figure(figsize=(10, 6))\n",
    "\n",
    "# Background histogram\n",
    "plt.stairs(\n",
    "    met_phi_hist_background.values(),\n",
    "    met_phi_hist_background.axes[0].edges,\n",
    "    color='blue',\n",
    "    label='Background',\n",
    "    linewidth=2\n",
    ")\n",
    "\n",
    "# Signal histogram\n",
    "plt.stairs(\n",
    "    met_phi_hist_signal.values(),\n",
    "    met_phi_hist_signal.axes[0].edges,\n",
    "    color='red',\n",
    "    label='Signal',\n",
    "    linewidth=2\n",
    ")\n",
    "\n",
    "# Add labels and legend\n",
    "plt.xlabel('MET Phi (rad)')\n",
    "plt.ylabel('Counts')\n",
    "plt.title('MET Phi Distribution')\n",
    "plt.legend()\n",
    "plt.grid(True)\n",
    "\n",
    "# Show the plot\n",
    "plt.show()"
   ]
  },
  {
   "cell_type": "markdown",
   "metadata": {},
   "source": []
  },
  {
   "cell_type": "markdown",
   "metadata": {},
   "source": [
    "<h2> Jets </h2>"
   ]
  },
  {
   "cell_type": "code",
   "execution_count": 54,
   "metadata": {},
   "outputs": [],
   "source": [
    "#For code reusability\n",
    "\n",
    "def PlotJets(binname,dataname):\n",
    "    j0_hist_background = Hist(\n",
    "            axis.Regular(binning[binname][\"bins\"], *binning[binname][\"range\"], name=\"thedata\", label=dataname+\"J0\")\n",
    "        )\n",
    "    j0_hist_signal = Hist(\n",
    "        axis.Regular(binning[binname][\"bins\"], *binning[binname][\"range\"], name=\"thedata\", label=dataname+\"J0\")\n",
    "    )\n",
    "\n",
    "    #J1\n",
    "    j1_hist_background = Hist(\n",
    "        axis.Regular(binning[binname][\"bins\"], *binning[binname][\"range\"], name=\"thedata\", label=dataname+\"J1\")\n",
    "    )\n",
    "    j1_hist_signal = Hist(\n",
    "        axis.Regular(binning[binname][\"bins\"], *binning[binname][\"range\"], name=\"thedata\", label=dataname+\"J1\")\n",
    "    )\n",
    "\n",
    "\n",
    "    # Signal processing\n",
    "    signal_jets = signal_tree[\"Jet.\"+dataname].array(library=\"np\")\n",
    "    signal_filtered_jets = [entry for entry in signal_jets if len(entry) >= 2]  # At least two entries\n",
    "    signal_j0 = np.array([entry[0] for entry in signal_filtered_jets])\n",
    "    signal_j1 = np.array([entry[1] for entry in signal_filtered_jets])\n",
    "\n",
    "    # Ensure weights match the number of entries in filtered data\n",
    "    valid_indices = [i for i, entry in enumerate(signal_jets) if len(entry) >= 2]\n",
    "    signal_weights_filtered = np.array([signal_weights[i] for i in valid_indices])\n",
    "    normalized_signal_weights_filtered = signal_weights_filtered / np.mean(signal_weights_filtered)\n",
    "\n",
    "    j0_hist_signal.fill(thedata=signal_j0, weight=normalized_signal_weights_filtered[:len(signal_j0)])\n",
    "    j1_hist_signal.fill(thedata=signal_j1, weight=normalized_signal_weights_filtered[:len(signal_j1)])\n",
    "\n",
    "    # Background processing\n",
    "    for folder_name in os.listdir(current_dir):\n",
    "        folder_path = os.path.join(current_dir, folder_name)\n",
    "        \n",
    "        # Check if the current item is a directory and if its name is in the background_folders dictionary\n",
    "        if os.path.isdir(folder_path) and folder_name in background_folders:\n",
    "            cross_section = background_folders[folder_name]\n",
    "            \n",
    "            for root_file in os.listdir(folder_path):\n",
    "                if root_file.endswith(\".root\"):\n",
    "                    file_path = os.path.join(folder_path, root_file)\n",
    "                    background_file = uproot.open(file_path)\n",
    "                    background_tree = background_file[tree_name]\n",
    "\n",
    "                    # Extract and normalize weights\n",
    "                    background_weights = background_tree[\"Event/Event.Weight\"].array(library=\"np\")\n",
    "                    \n",
    "                    # Extract and filter jet PT\n",
    "                    background_jets = background_tree[\"Jet.\" + dataname].array(library=\"np\")\n",
    "                    background_filtered_jets = [entry for entry in background_jets if len(entry) >= 2]  # At least two entries\n",
    "                    \n",
    "                    # Extract J0 and J1\n",
    "                    background_j0 = np.array([entry[0] for entry in background_filtered_jets])\n",
    "                    background_j1 = np.array([entry[1] for entry in background_filtered_jets])\n",
    "\n",
    "                    # Ensure weights match the entries in filtered data\n",
    "                    valid_indices = [i for i, entry in enumerate(background_jets) if len(entry) >= 2]\n",
    "                    filtered_weights = np.array([background_weights[i] for i in valid_indices])\n",
    "                    normalized_bkg_filtered_weights = filtered_weights / np.mean(filtered_weights)\n",
    "\n",
    "                    # Make sure filtered weights are aligned with filtered data\n",
    "                    if len(background_j0) <= len(normalized_bkg_filtered_weights):\n",
    "                        j0_hist_background.fill(thedata=background_j0, weight=normalized_bkg_filtered_weights[:len(background_j0)])\n",
    "                        j1_hist_background.fill(thedata=background_j1, weight=normalized_bkg_filtered_weights[:len(background_j1)])\n",
    "    \n",
    "\n",
    "        \n",
    "\n",
    "    # Create a figure and a set of subplots (2 columns, 1 row)\n",
    "    fig, axs = plt.subplots(1, 2, figsize=(12, 6))\n",
    "\n",
    "    # Plot J0\n",
    "    axs[0].stairs(\n",
    "        j0_hist_background.values(),\n",
    "        j0_hist_background.axes[0].edges,\n",
    "        color='blue',\n",
    "        label='Background',\n",
    "        linewidth=2\n",
    "    )\n",
    "    axs[0].stairs(\n",
    "        j0_hist_signal.values(),\n",
    "        j0_hist_signal.axes[0].edges,\n",
    "        color='red',\n",
    "        label='Signal',\n",
    "        linewidth=2\n",
    "    )\n",
    "    axs[0].set_xlabel(dataname+'(j0)')\n",
    "    axs[0].set_ylabel('Counts')\n",
    "    axs[0].set_title(dataname+'(j0) Distributions')\n",
    "    axs[0].legend()\n",
    "    axs[0].grid(True)\n",
    "\n",
    "    # Plot J1\n",
    "    axs[1].stairs(\n",
    "        j1_hist_background.values(),\n",
    "        j1_hist_background.axes[0].edges,\n",
    "        color='blue',\n",
    "        label='Background',\n",
    "        linewidth=2\n",
    "    )\n",
    "    axs[1].stairs(\n",
    "        j1_hist_signal.values(),\n",
    "        j1_hist_signal.axes[0].edges,\n",
    "        color='red',\n",
    "        label='Signal',\n",
    "        linewidth=2\n",
    "    )\n",
    "    axs[1].set_xlabel(dataname+'(j1)')\n",
    "    axs[1].set_ylabel('Counts')\n",
    "    axs[1].set_title(dataname+'(j1) Distributions')\n",
    "    axs[1].legend()\n",
    "    axs[1].grid(True)\n",
    "\n",
    "    # Adjust layout\n",
    "    plt.tight_layout()\n",
    "\n",
    "    # Show the plot\n",
    "    plt.show()\n"
   ]
  },
  {
   "cell_type": "markdown",
   "metadata": {},
   "source": [
    "<h3> PT(j0) , PT(j1) </h3>"
   ]
  },
  {
   "cell_type": "code",
   "execution_count": 55,
   "metadata": {},
   "outputs": [
    {
     "data": {
      "image/png": "[encoded data removed]",
      "text/plain": [
       "<Figure size 1200x600 with 2 Axes>"
      ]
     },
     "metadata": {},
     "output_type": "display_data"
    }
   ],
   "source": [
    "PlotJets(\"PT\",\"PT\")"
   ]
  },
  {
   "cell_type": "markdown",
   "metadata": {},
   "source": [
    "<h3>Phi(J0,J1)</h3>"
   ]
  },
  {
   "cell_type": "code",
   "execution_count": null,
   "metadata": {},
   "outputs": [],
   "source": [
    "PlotJets(\"Phi\",\"Phi\")"
   ]
  },
  {
   "cell_type": "markdown",
   "metadata": {},
   "source": [
    "<h3> Eta j0. j1 </h3>"
   ]
  },
  {
   "cell_type": "code",
   "execution_count": null,
   "metadata": {},
   "outputs": [],
   "source": [
    "PlotJets(\"Eta\",\"Eta\")"
   ]
  },
  {
   "cell_type": "markdown",
   "metadata": {},
   "source": []
  },
  {
   "cell_type": "markdown",
   "metadata": {},
   "source": []
  },
  {
   "cell_type": "markdown",
   "metadata": {},
   "source": []
  },
  {
   "cell_type": "markdown",
   "metadata": {},
   "source": []
  },
  {
   "cell_type": "markdown",
   "metadata": {},
   "source": [
    "<h1> Step 3: Iteratively Plot, then Cut <h1>"
   ]
  },
  {
   "cell_type": "code",
   "execution_count": null,
   "metadata": {},
   "outputs": [],
   "source": [
    "#Testing stuff\n",
    "\n",
    "#this is how I might make a cut\n",
    "trial = signalevents['Jet'][signalevents.Jet.PT > 30].compute()['PT']\n",
    "trial\n"
   ]
  },
  {
   "cell_type": "markdown",
   "metadata": {},
   "source": [
    "<b> $\\eta$($j_0$) *  $\\eta$($j_1$) </b>"
   ]
  },
  {
   "cell_type": "code",
   "execution_count": null,
   "metadata": {},
   "outputs": [],
   "source": []
  },
  {
   "cell_type": "markdown",
   "metadata": {},
   "source": [
    "<b> abs($\\Delta$($j_0$,$j_1$)) </b>"
   ]
  },
  {
   "cell_type": "code",
   "execution_count": null,
   "metadata": {},
   "outputs": [],
   "source": []
  },
  {
   "cell_type": "markdown",
   "metadata": {},
   "source": [
    "<b>Pt($j_0$) </b>"
   ]
  },
  {
   "cell_type": "code",
   "execution_count": null,
   "metadata": {},
   "outputs": [],
   "source": []
  },
  {
   "cell_type": "markdown",
   "metadata": {},
   "source": [
    "<b>Pt($j_1$)</b>"
   ]
  },
  {
   "cell_type": "code",
   "execution_count": null,
   "metadata": {},
   "outputs": [],
   "source": []
  },
  {
   "cell_type": "markdown",
   "metadata": {},
   "source": [
    "<b> $M_{ET}$, <b>"
   ]
  },
  {
   "cell_type": "markdown",
   "metadata": {},
   "source": []
  },
  {
   "cell_type": "markdown",
   "metadata": {},
   "source": [
    "<h1>Step 5: Compile full Cut Chart </h1>"
   ]
  },
  {
   "cell_type": "code",
   "execution_count": null,
   "metadata": {},
   "outputs": [],
   "source": [
    "\n",
    "column_width = 12  \n",
    "\n",
    "# Create the grid header\n",
    "header_row = f\"{'Cut #':^{column_width}} | {'SM Events':^{column_width}} | {'NP Events':^{column_width}} | {'Significance':^{column_width}}\"\n",
    "print(header_row)\n",
    "\n",
    "# Print a separator line\n",
    "print(\"-\" * (len(header_row) + 1))\n",
    "\n",
    "#Initial Conditions\n",
    "init_data = f\"{'    Init':{column_width}} | {SM_events[0]:^{column_width}} | {NP_events[0]:^{column_width}} | {Significance[0]:^{column_width}.2f}\"  # \n",
    "print(init_data)\n",
    "\n",
    "# Iterate through data and format each row\n",
    "for i in range(1, num_cuts):  # Use range(1, num_cuts+1) for 1 to num_cuts (inclusive)\n",
    "    row_data = f\"{i:{column_width}} | {SM_events[i]:^{column_width}} | {NP_events[i]:^{column_width}} | {Significance[i]:^{column_width}.2f}\" \n",
    "    print(row_data)\n",
    "\n",
    "\n"
   ]
  },
  {
   "cell_type": "code",
   "execution_count": null,
   "metadata": {},
   "outputs": [],
   "source": []
  }
 ],
 "metadata": {
  "kernelspec": {
   "display_name": "base",
   "language": "python",
   "name": "python3"
  },
  "language_info": {
   "codemirror_mode": {
    "name": "ipython",
    "version": 3
   },
   "file_extension": ".py",
   "mimetype": "text/x-python",
   "name": "python",
   "nbconvert_exporter": "python",
   "pygments_lexer": "ipython3",
   "version": "3.11.9"
  }
 },
 "nbformat": 4,
 "nbformat_minor": 2
}
